{
  "nbformat": 4,
  "nbformat_minor": 0,
  "metadata": {
    "colab": {
      "name": "Detecção de Fraude em Cartões de Crédito.ipynb",
      "provenance": [],
      "collapsed_sections": [],
      "include_colab_link": true
    },
    "kernelspec": {
      "name": "python3",
      "display_name": "Python 3"
    }
  },
  "cells": [
    {
      "cell_type": "markdown",
      "metadata": {
        "id": "view-in-github",
        "colab_type": "text"
      },
      "source": [
        "<a href=\"https://colab.research.google.com/github/andrenp2/Sigmoidal_DataScience/blob/main/Detec%C3%A7%C3%A3o_de_Fraude_em_Cart%C3%B5es_de_Cr%C3%A9dito.ipynb\" target=\"_parent\"><img src=\"https://colab.research.google.com/assets/colab-badge.svg\" alt=\"Open In Colab\"/></a>"
      ]
    },
    {
      "cell_type": "markdown",
      "metadata": {
        "id": "sC2BFMOKN1M7"
      },
      "source": [
        "---\n",
        "<img alt=\"Colaboratory logo\" width=\"15%\" src=\"https://raw.githubusercontent.com/carlosfab/escola-data-science/master/img/novo_logo_bg_claro.png\">\n",
        "\n",
        "#### **Data Science na Prática 3.0**\n",
        "*by [sigmoidal.ai](https://sigmoidal.ai)*  \n",
        "\n",
        "---"
      ]
    },
    {
      "cell_type": "markdown",
      "metadata": {
        "id": "IR56trFcPcC1"
      },
      "source": [
        "# Detecção de Fraudes em Cartões de Crédito\n",
        "\n",
        "Neste projeto, iremos abordar o problema das fraudes em cartões de crédito, uma das principais preocupações das instituições financeiras como bancos e *fintechs*. Apenas no Brasil, cerca de 12,1 milhões de pessoas já foram vítimas de algum tipo de fraude financeira no último ano. Traduzindo em valores, os golpes financeiros ultrapassaram a cifra de R$ 1,8 bilhão de prejuízo por ano para os últimos 12 meses.\n",
        "\n",
        "<p align=center>\n",
        "<img src=\"https://images.unsplash.com/photo-1592772874383-d08932d29db7?ixid=MnwxMjA3fDB8MHxwaG90by1wYWdlfHx8fGVufDB8fHx8&ixlib=rb-1.2.1&auto=format&fit=crop&w=699&q=80\" width=\"60%\"></p>\n",
        "\n",
        "Dentra essas fraudes, aquelas envolvendo cartões de crédito são de grande relevância uma vez que a sua não-detecção acaretará em prejuízos consideráveis, tanto para o consumidor quanto para a instituição financeira.\n",
        "\n",
        "Um outro fator a ser considerado é a quantidade de falsos positivos, ou seja, aquelas vezes em que você tentou fazer uma compra e teve seu cartão bloqueado preventivamente - o que provavelmente gerou estresse e constrangimento.\n",
        "\n",
        "Por todos esses motivos, o investimento na área de detecção de fraudes por meio de Inteligência Artificial vem crescendo a cada ano, representando uma grande oportunidade em *Data Science*. \n",
        "\n",
        "Dispondo de grandes volumes de dados como base histórica, um algoritmo de machine learning apenas um pouco melhor que os anteriores já representa uma economia de milhões de Reais. E esse é o desafio, aprimorar cada vez mais o uso de algoritmos visando inibir ou evitar transações fraudulentas."
      ]
    },
    {
      "cell_type": "markdown",
      "metadata": {
        "id": "0HVmpIxQWT4Y"
      },
      "source": [
        "## Importando os Dados\n",
        "\n",
        "Os dados que usaremos neste projeto foram disponibilizados por algumas empresas européias de cartão de crédito. O *dataset* representa as operações financeiras que aconteceram no período de dois dias, onde foram classificadas 492 fraudes em meio a quase 290 mil transações.\n",
        "\n",
        "Como você pode notar, este é um conjunto de dados extremamente desbalanceado, onde as fraudes representam apenas 0,17% do total.\n",
        "\n",
        "Outro detalhe interessante é que as *features* são todas numéricas, e foram descaracterizadas (por problemas ligados à privacidade e segurança). Assim, os nomes das colunas são representados por $[V1, V2, V3 \\dots, V28]$ \n",
        "\n",
        "<p align=center>\n",
        "<img src=\"https://images.unsplash.com/photo-1620714223084-8fcacc6dfd8d?ixid=MnwxMjA3fDB8MHxwaG90by1wYWdlfHx8fGVufDB8fHx8&ixlib=rb-1.2.1&auto=format&fit=crop&w=1051&q=80\" width=\"50%\"></p>\n",
        "\n",
        "[Na página original dos dados](https://www.kaggle.com/mlg-ulb/creditcardfraud), também é informado que as variáveis passaram por uma transformação conhecida como Análise de Componentes Principais (*Principal Component Analysis* - PCA).\n",
        "\n",
        "A PCA permite a redução da dimensionalidade enquanto mantém o maior número possível de informações. Para conseguir isso, o algoritmo encontra um conjunto novo de recursos - os chamados **componentes**.\n",
        "\n",
        "Esses componentes são em número menor or igual às variáveis originais. No caso deste projeto, os componentes achados pela transformação da PCA são as próprias colunas $[V1, V2, V3 \\dots, V28]$."
      ]
    },
    {
      "cell_type": "code",
      "source": [
        "# suprimir os warnings\n",
        "from warnings import simplefilter\n",
        "simplefilter(action='ignore', category=FutureWarning)\n",
        "\n",
        "# instalar a biblioteca scikit-plot\n",
        "!pip install -q scikit-plot\n",
        "!pip install -q skopt"
      ],
      "metadata": {
        "id": "zkCarD8nc4WT",
        "colab": {
          "base_uri": "https://localhost:8080/"
        },
        "outputId": "c54b5dc2-c426-4b24-b281-a53959c02c09"
      },
      "execution_count": null,
      "outputs": [
        {
          "output_type": "stream",
          "name": "stdout",
          "text": [
            "\u001b[31mERROR: Could not find a version that satisfies the requirement skopt (from versions: none)\u001b[0m\n",
            "\u001b[31mERROR: No matching distribution found for skopt\u001b[0m\n"
          ]
        }
      ]
    },
    {
      "cell_type": "code",
      "metadata": {
        "id": "oQ4bNy7udtEE"
      },
      "source": [
        "# importar os pacotes necessários\n",
        "\n",
        "# bibliotecas \n",
        "import pandas as pd\n",
        "import numpy as np\n",
        "import matplotlib.pyplot as plt\n",
        "import seaborn as sns\n",
        "import scikitplot as skplt\n",
        "\n",
        "# funções especificas de bibliotecas\n",
        "\n",
        "# funções de metricas\n",
        "from sklearn.metrics import confusion_matrix\n",
        "from sklearn.metrics import classification_report\n",
        "from sklearn.metrics import roc_auc_score, roc_curve, accuracy_score, f1_score\n",
        "#from scikitplot.metrics import plot_confusion_matrix, plot_roc\n",
        "\n",
        "# funções de modelos (modelos de regressão, etc...)\n",
        "from sklearn.model_selection import train_test_split\n",
        "from sklearn.linear_model import LogisticRegression\n",
        "from sklearn.ensemble import RandomForestClassifier\n",
        "\n",
        "\n",
        "# funções de preprocessamento (normalizacao, padronizacao, etc..)\n",
        "from sklearn.preprocessing import StandardScaler\n",
        "\n",
        "# função de balanceamento do dataset. \n",
        "from imblearn.under_sampling import RandomUnderSampler\n",
        "\n",
        "# configurar o estilo dos gráficos com o Seaborn\n",
        "sns.set_style('dark')\n",
        "\n",
        "# Criar pipeline para padronizar > modificar > usar modelo direto\n",
        "from sklearn.pipeline import make_pipeline\n",
        "\n",
        "from sklearn.model_selection import cross_val_score\n",
        "from sklearn.model_selection import StratifiedKFold\n",
        "from sklearn.model_selection import GridSearchCV\n",
        "\n",
        "from lightgbm import LGBMClassifier\n",
        "from sklearn.linear_model import SGDClassifier\n",
        "from sklearn.tree import DecisionTreeClassifier\n",
        "from sklearn.linear_model import LinearRegression\n",
        "from xgboost import XGBClassifier\n",
        "\n",
        "np.random.seed(42)"
      ],
      "execution_count": null,
      "outputs": []
    },
    {
      "cell_type": "markdown",
      "metadata": {
        "id": "g5XDTWW5LRVe"
      },
      "source": [
        "Para facilitar a aquisição dos dados, criei um *link* com acesso direto ao `csv`. Com isso, basta importar o conjunto de dados usando o método `pd.read_csv()`."
      ]
    },
    {
      "cell_type": "code",
      "metadata": {
        "id": "4NxUOfDOj2j8"
      },
      "source": [
        "file_path = \"https://www.dropbox.com/s/b44o3t3ehmnx2b7/creditcard.csv?dl=1\"\n",
        "\n",
        "# importar os dados para um dataframe\n",
        "df = pd.read_csv(file_path)"
      ],
      "execution_count": null,
      "outputs": []
    },
    {
      "cell_type": "markdown",
      "source": [
        "Ao recebermos um conjunto de dados completo, o primeiro passo é serpará-lo, como demonstra a primeira figura. Então, dividiremos o conjunto inteiro entre `Treino` e `Teste`, e então separaremos o de `Treino` entre `Treino` e `Validação`.\n",
        "\n",
        "<center><img src=\"https://miro.medium.com/max/1400/1*RJS8yV5mBDqrRu7THooH-w.png\" width=400px ></center>\n",
        "\n",
        "### Treino\n",
        "\n",
        "O conjunto de treino será o maior, e será usado para a análise de dados, para criação do pipeline de processamento desses dados, e também para criar nossa *baseline*, que usaremos para selecionar o modelo a ser otimizado.\n",
        "\n",
        "### Validação\n",
        "\n",
        "Esse pedaço do conjunto de treino, será mais ou menos do mesmo tamanho do conjunto de teste, e será usado como um conjunto de teste. Isso significa que o modelo criado não pode ter visto esses dados na análise, assim como os de teste. Por isso esses conjuntos são comumente chamados de *\"holdout sets\"*, pois vamos \"segurá-los\" até o momento certo de usá-los.\n",
        "\n",
        "No caso do conjunto de validação, nós vamos ter construído e selecionado o modelo, ou modelos, a serem otimizados. Nessa parte, usaremos o conjunto para fazer o tuning de parâmetros, e selecionar o melhor modelo, que será usado em produção, entregue ao cliente, etc.\n",
        "\n",
        "### Teste\n",
        "\n",
        "Esse conjunto é utilizado apenas no final, com o seu modelo pronto, e otimizado, para testar o resultado do modelo pronto com dados novos, da mesma forma que ele receberá esses dados no mundo real. Aqui é onde saberemos a verdadeira performance do modelo, e avaliaremos a mesma baseado nas métricas de interesse para o problema.\n"
      ],
      "metadata": {
        "id": "VO2P6mZXfsLU"
      }
    },
    {
      "cell_type": "markdown",
      "source": [
        "Ao carregar seu conjunto de dados, separe uma fração dele para ser seu conjunto de teste. É normal ver a proporção 70/15/15 para os conjuntos, mas não é uma regra.\n",
        "\n",
        "Ainda mais hoje em dia com Big Data, não é absurdo uma proporção 95/2.5/2.5, dado o grande volume de dados, e a importância de ser ter um grande conjunto de treino.\n",
        "\n",
        "No exemplo abaixo, vou usar 15% do dataset como conjunto de teste."
      ],
      "metadata": {
        "id": "QGMEVCrWf5bh"
      }
    },
    {
      "cell_type": "code",
      "source": [
        "# dividindo nosso dataset original em variaveis de test e treino\n",
        "\n",
        "#dataset original\n",
        "print('Dimensões do conjunto original : {}'.format(df.shape))\n",
        "\n",
        "# teste\n",
        "test = df.sample(frac=0.15, random_state=0)\n",
        "\n",
        "# vamos retirar as variaveis de test do dataset original\n",
        "df = df.drop(test.index)\n",
        "\n",
        "\n",
        "print('Dimensões do conjunto treino (original - teste) : {}'.format(df.shape))\n",
        "print('Dimensões do conjunto de teste : {}'.format(test.shape))"
      ],
      "metadata": {
        "colab": {
          "base_uri": "https://localhost:8080/"
        },
        "id": "ueFyaZ1_f3hq",
        "outputId": "3ee7622c-3cdf-4261-be5f-79833f473b92"
      },
      "execution_count": null,
      "outputs": [
        {
          "output_type": "stream",
          "name": "stdout",
          "text": [
            "Dimensões do conjunto original : (284807, 31)\n",
            "Dimensões do conjunto treino (original - teste) : (242086, 31)\n",
            "Dimensões do conjunto de teste : (42721, 31)\n"
          ]
        }
      ]
    },
    {
      "cell_type": "markdown",
      "metadata": {
        "id": "8UtXyZ6stlSM"
      },
      "source": [
        "## Análise Exploratória\n"
      ]
    },
    {
      "cell_type": "markdown",
      "source": [
        "### Analisando as entradas (variáveis) do dataset\n",
        "\n",
        "Nota-se que o dataset foi alterado com transformações PCA (*Analise dos Componentes Principais*), que é um processo de combinações algebricas  realizadas entre entre variáveis. \n",
        "\n",
        "**PCA:**\n",
        "*O objetivo é encontrar um meio de condensar a informação contida em várias variáveis originais em um conjunto menor de variáveis estatísticas (componentes) com uma perda mínima de informação.*\n",
        "\n",
        "\n",
        "As entradas foram descaracterizadas para deixar em anonimato, sendo nomeadas de V1, V2, V3 ... V28\n",
        "\n",
        "* As colunas `\"Time\"` e `\"Amount\"` foram mantidas\n",
        "\n",
        "* E a Coluna `\"Class\"` nos ondica a variável **alvo**, onde:\n",
        "\n",
        "  - **0:** Transação Normal;\n",
        "  - **1:** Transação Fraudulenta;"
      ],
      "metadata": {
        "id": "FIRk33Crnaa3"
      }
    },
    {
      "cell_type": "code",
      "source": [
        "# Conhecendo o DataSet\n",
        "\n",
        "#numero de linhas e colunas\n",
        "print(\"Linhas : {}\".format(df.shape[0]))\n",
        "print(\"Colunas : {}\".format(df.shape[1]))"
      ],
      "metadata": {
        "colab": {
          "base_uri": "https://localhost:8080/"
        },
        "id": "bOkqHAvhsiF9",
        "outputId": "1728fc35-fb17-4b68-bb9e-bd6000395c15"
      },
      "execution_count": null,
      "outputs": [
        {
          "output_type": "stream",
          "name": "stdout",
          "text": [
            "Linhas : 242086\n",
            "Colunas : 31\n"
          ]
        }
      ]
    },
    {
      "cell_type": "code",
      "source": [
        "# funcao head para analisar as 5 primeiras entradas do dataset\n",
        "df.head()"
      ],
      "metadata": {
        "colab": {
          "base_uri": "https://localhost:8080/",
          "height": 282
        },
        "id": "IPicLVovnorT",
        "outputId": "46a873b4-f19d-428b-d505-99f6a1bda813"
      },
      "execution_count": null,
      "outputs": [
        {
          "output_type": "execute_result",
          "data": {
            "text/plain": [
              "   Time        V1        V2        V3        V4        V5        V6        V7  \\\n",
              "0   0.0 -1.359807 -0.072781  2.536347  1.378155 -0.338321  0.462388  0.239599   \n",
              "1   0.0  1.191857  0.266151  0.166480  0.448154  0.060018 -0.082361 -0.078803   \n",
              "2   1.0 -1.358354 -1.340163  1.773209  0.379780 -0.503198  1.800499  0.791461   \n",
              "3   1.0 -0.966272 -0.185226  1.792993 -0.863291 -0.010309  1.247203  0.237609   \n",
              "4   2.0 -1.158233  0.877737  1.548718  0.403034 -0.407193  0.095921  0.592941   \n",
              "\n",
              "         V8        V9  ...       V21       V22       V23       V24       V25  \\\n",
              "0  0.098698  0.363787  ... -0.018307  0.277838 -0.110474  0.066928  0.128539   \n",
              "1  0.085102 -0.255425  ... -0.225775 -0.638672  0.101288 -0.339846  0.167170   \n",
              "2  0.247676 -1.514654  ...  0.247998  0.771679  0.909412 -0.689281 -0.327642   \n",
              "3  0.377436 -1.387024  ... -0.108300  0.005274 -0.190321 -1.175575  0.647376   \n",
              "4 -0.270533  0.817739  ... -0.009431  0.798278 -0.137458  0.141267 -0.206010   \n",
              "\n",
              "        V26       V27       V28  Amount  Class  \n",
              "0 -0.189115  0.133558 -0.021053  149.62      0  \n",
              "1  0.125895 -0.008983  0.014724    2.69      0  \n",
              "2 -0.139097 -0.055353 -0.059752  378.66      0  \n",
              "3 -0.221929  0.062723  0.061458  123.50      0  \n",
              "4  0.502292  0.219422  0.215153   69.99      0  \n",
              "\n",
              "[5 rows x 31 columns]"
            ],
            "text/html": [
              "\n",
              "  <div id=\"df-fa6ab154-80d3-44a7-879d-ad28efb1e17b\">\n",
              "    <div class=\"colab-df-container\">\n",
              "      <div>\n",
              "<style scoped>\n",
              "    .dataframe tbody tr th:only-of-type {\n",
              "        vertical-align: middle;\n",
              "    }\n",
              "\n",
              "    .dataframe tbody tr th {\n",
              "        vertical-align: top;\n",
              "    }\n",
              "\n",
              "    .dataframe thead th {\n",
              "        text-align: right;\n",
              "    }\n",
              "</style>\n",
              "<table border=\"1\" class=\"dataframe\">\n",
              "  <thead>\n",
              "    <tr style=\"text-align: right;\">\n",
              "      <th></th>\n",
              "      <th>Time</th>\n",
              "      <th>V1</th>\n",
              "      <th>V2</th>\n",
              "      <th>V3</th>\n",
              "      <th>V4</th>\n",
              "      <th>V5</th>\n",
              "      <th>V6</th>\n",
              "      <th>V7</th>\n",
              "      <th>V8</th>\n",
              "      <th>V9</th>\n",
              "      <th>...</th>\n",
              "      <th>V21</th>\n",
              "      <th>V22</th>\n",
              "      <th>V23</th>\n",
              "      <th>V24</th>\n",
              "      <th>V25</th>\n",
              "      <th>V26</th>\n",
              "      <th>V27</th>\n",
              "      <th>V28</th>\n",
              "      <th>Amount</th>\n",
              "      <th>Class</th>\n",
              "    </tr>\n",
              "  </thead>\n",
              "  <tbody>\n",
              "    <tr>\n",
              "      <th>0</th>\n",
              "      <td>0.0</td>\n",
              "      <td>-1.359807</td>\n",
              "      <td>-0.072781</td>\n",
              "      <td>2.536347</td>\n",
              "      <td>1.378155</td>\n",
              "      <td>-0.338321</td>\n",
              "      <td>0.462388</td>\n",
              "      <td>0.239599</td>\n",
              "      <td>0.098698</td>\n",
              "      <td>0.363787</td>\n",
              "      <td>...</td>\n",
              "      <td>-0.018307</td>\n",
              "      <td>0.277838</td>\n",
              "      <td>-0.110474</td>\n",
              "      <td>0.066928</td>\n",
              "      <td>0.128539</td>\n",
              "      <td>-0.189115</td>\n",
              "      <td>0.133558</td>\n",
              "      <td>-0.021053</td>\n",
              "      <td>149.62</td>\n",
              "      <td>0</td>\n",
              "    </tr>\n",
              "    <tr>\n",
              "      <th>1</th>\n",
              "      <td>0.0</td>\n",
              "      <td>1.191857</td>\n",
              "      <td>0.266151</td>\n",
              "      <td>0.166480</td>\n",
              "      <td>0.448154</td>\n",
              "      <td>0.060018</td>\n",
              "      <td>-0.082361</td>\n",
              "      <td>-0.078803</td>\n",
              "      <td>0.085102</td>\n",
              "      <td>-0.255425</td>\n",
              "      <td>...</td>\n",
              "      <td>-0.225775</td>\n",
              "      <td>-0.638672</td>\n",
              "      <td>0.101288</td>\n",
              "      <td>-0.339846</td>\n",
              "      <td>0.167170</td>\n",
              "      <td>0.125895</td>\n",
              "      <td>-0.008983</td>\n",
              "      <td>0.014724</td>\n",
              "      <td>2.69</td>\n",
              "      <td>0</td>\n",
              "    </tr>\n",
              "    <tr>\n",
              "      <th>2</th>\n",
              "      <td>1.0</td>\n",
              "      <td>-1.358354</td>\n",
              "      <td>-1.340163</td>\n",
              "      <td>1.773209</td>\n",
              "      <td>0.379780</td>\n",
              "      <td>-0.503198</td>\n",
              "      <td>1.800499</td>\n",
              "      <td>0.791461</td>\n",
              "      <td>0.247676</td>\n",
              "      <td>-1.514654</td>\n",
              "      <td>...</td>\n",
              "      <td>0.247998</td>\n",
              "      <td>0.771679</td>\n",
              "      <td>0.909412</td>\n",
              "      <td>-0.689281</td>\n",
              "      <td>-0.327642</td>\n",
              "      <td>-0.139097</td>\n",
              "      <td>-0.055353</td>\n",
              "      <td>-0.059752</td>\n",
              "      <td>378.66</td>\n",
              "      <td>0</td>\n",
              "    </tr>\n",
              "    <tr>\n",
              "      <th>3</th>\n",
              "      <td>1.0</td>\n",
              "      <td>-0.966272</td>\n",
              "      <td>-0.185226</td>\n",
              "      <td>1.792993</td>\n",
              "      <td>-0.863291</td>\n",
              "      <td>-0.010309</td>\n",
              "      <td>1.247203</td>\n",
              "      <td>0.237609</td>\n",
              "      <td>0.377436</td>\n",
              "      <td>-1.387024</td>\n",
              "      <td>...</td>\n",
              "      <td>-0.108300</td>\n",
              "      <td>0.005274</td>\n",
              "      <td>-0.190321</td>\n",
              "      <td>-1.175575</td>\n",
              "      <td>0.647376</td>\n",
              "      <td>-0.221929</td>\n",
              "      <td>0.062723</td>\n",
              "      <td>0.061458</td>\n",
              "      <td>123.50</td>\n",
              "      <td>0</td>\n",
              "    </tr>\n",
              "    <tr>\n",
              "      <th>4</th>\n",
              "      <td>2.0</td>\n",
              "      <td>-1.158233</td>\n",
              "      <td>0.877737</td>\n",
              "      <td>1.548718</td>\n",
              "      <td>0.403034</td>\n",
              "      <td>-0.407193</td>\n",
              "      <td>0.095921</td>\n",
              "      <td>0.592941</td>\n",
              "      <td>-0.270533</td>\n",
              "      <td>0.817739</td>\n",
              "      <td>...</td>\n",
              "      <td>-0.009431</td>\n",
              "      <td>0.798278</td>\n",
              "      <td>-0.137458</td>\n",
              "      <td>0.141267</td>\n",
              "      <td>-0.206010</td>\n",
              "      <td>0.502292</td>\n",
              "      <td>0.219422</td>\n",
              "      <td>0.215153</td>\n",
              "      <td>69.99</td>\n",
              "      <td>0</td>\n",
              "    </tr>\n",
              "  </tbody>\n",
              "</table>\n",
              "<p>5 rows × 31 columns</p>\n",
              "</div>\n",
              "      <button class=\"colab-df-convert\" onclick=\"convertToInteractive('df-fa6ab154-80d3-44a7-879d-ad28efb1e17b')\"\n",
              "              title=\"Convert this dataframe to an interactive table.\"\n",
              "              style=\"display:none;\">\n",
              "        \n",
              "  <svg xmlns=\"http://www.w3.org/2000/svg\" height=\"24px\"viewBox=\"0 0 24 24\"\n",
              "       width=\"24px\">\n",
              "    <path d=\"M0 0h24v24H0V0z\" fill=\"none\"/>\n",
              "    <path d=\"M18.56 5.44l.94 2.06.94-2.06 2.06-.94-2.06-.94-.94-2.06-.94 2.06-2.06.94zm-11 1L8.5 8.5l.94-2.06 2.06-.94-2.06-.94L8.5 2.5l-.94 2.06-2.06.94zm10 10l.94 2.06.94-2.06 2.06-.94-2.06-.94-.94-2.06-.94 2.06-2.06.94z\"/><path d=\"M17.41 7.96l-1.37-1.37c-.4-.4-.92-.59-1.43-.59-.52 0-1.04.2-1.43.59L10.3 9.45l-7.72 7.72c-.78.78-.78 2.05 0 2.83L4 21.41c.39.39.9.59 1.41.59.51 0 1.02-.2 1.41-.59l7.78-7.78 2.81-2.81c.8-.78.8-2.07 0-2.86zM5.41 20L4 18.59l7.72-7.72 1.47 1.35L5.41 20z\"/>\n",
              "  </svg>\n",
              "      </button>\n",
              "      \n",
              "  <style>\n",
              "    .colab-df-container {\n",
              "      display:flex;\n",
              "      flex-wrap:wrap;\n",
              "      gap: 12px;\n",
              "    }\n",
              "\n",
              "    .colab-df-convert {\n",
              "      background-color: #E8F0FE;\n",
              "      border: none;\n",
              "      border-radius: 50%;\n",
              "      cursor: pointer;\n",
              "      display: none;\n",
              "      fill: #1967D2;\n",
              "      height: 32px;\n",
              "      padding: 0 0 0 0;\n",
              "      width: 32px;\n",
              "    }\n",
              "\n",
              "    .colab-df-convert:hover {\n",
              "      background-color: #E2EBFA;\n",
              "      box-shadow: 0px 1px 2px rgba(60, 64, 67, 0.3), 0px 1px 3px 1px rgba(60, 64, 67, 0.15);\n",
              "      fill: #174EA6;\n",
              "    }\n",
              "\n",
              "    [theme=dark] .colab-df-convert {\n",
              "      background-color: #3B4455;\n",
              "      fill: #D2E3FC;\n",
              "    }\n",
              "\n",
              "    [theme=dark] .colab-df-convert:hover {\n",
              "      background-color: #434B5C;\n",
              "      box-shadow: 0px 1px 3px 1px rgba(0, 0, 0, 0.15);\n",
              "      filter: drop-shadow(0px 1px 2px rgba(0, 0, 0, 0.3));\n",
              "      fill: #FFFFFF;\n",
              "    }\n",
              "  </style>\n",
              "\n",
              "      <script>\n",
              "        const buttonEl =\n",
              "          document.querySelector('#df-fa6ab154-80d3-44a7-879d-ad28efb1e17b button.colab-df-convert');\n",
              "        buttonEl.style.display =\n",
              "          google.colab.kernel.accessAllowed ? 'block' : 'none';\n",
              "\n",
              "        async function convertToInteractive(key) {\n",
              "          const element = document.querySelector('#df-fa6ab154-80d3-44a7-879d-ad28efb1e17b');\n",
              "          const dataTable =\n",
              "            await google.colab.kernel.invokeFunction('convertToInteractive',\n",
              "                                                     [key], {});\n",
              "          if (!dataTable) return;\n",
              "\n",
              "          const docLinkHtml = 'Like what you see? Visit the ' +\n",
              "            '<a target=\"_blank\" href=https://colab.research.google.com/notebooks/data_table.ipynb>data table notebook</a>'\n",
              "            + ' to learn more about interactive tables.';\n",
              "          element.innerHTML = '';\n",
              "          dataTable['output_type'] = 'display_data';\n",
              "          await google.colab.output.renderOutput(dataTable, element);\n",
              "          const docLink = document.createElement('div');\n",
              "          docLink.innerHTML = docLinkHtml;\n",
              "          element.appendChild(docLink);\n",
              "        }\n",
              "      </script>\n",
              "    </div>\n",
              "  </div>\n",
              "  "
            ]
          },
          "metadata": {},
          "execution_count": 48
        }
      ]
    },
    {
      "cell_type": "code",
      "source": [
        "df.dtypes"
      ],
      "metadata": {
        "colab": {
          "base_uri": "https://localhost:8080/"
        },
        "id": "BDbuz9x_sHSb",
        "outputId": "c6fe869b-f907-4f49-e27b-329220f17fc9"
      },
      "execution_count": null,
      "outputs": [
        {
          "output_type": "execute_result",
          "data": {
            "text/plain": [
              "Time      float64\n",
              "V1        float64\n",
              "V2        float64\n",
              "V3        float64\n",
              "V4        float64\n",
              "V5        float64\n",
              "V6        float64\n",
              "V7        float64\n",
              "V8        float64\n",
              "V9        float64\n",
              "V10       float64\n",
              "V11       float64\n",
              "V12       float64\n",
              "V13       float64\n",
              "V14       float64\n",
              "V15       float64\n",
              "V16       float64\n",
              "V17       float64\n",
              "V18       float64\n",
              "V19       float64\n",
              "V20       float64\n",
              "V21       float64\n",
              "V22       float64\n",
              "V23       float64\n",
              "V24       float64\n",
              "V25       float64\n",
              "V26       float64\n",
              "V27       float64\n",
              "V28       float64\n",
              "Amount    float64\n",
              "Class       int64\n",
              "dtype: object"
            ]
          },
          "metadata": {},
          "execution_count": 49
        }
      ]
    },
    {
      "cell_type": "code",
      "source": [
        "df.duplicated().sum()"
      ],
      "metadata": {
        "colab": {
          "base_uri": "https://localhost:8080/"
        },
        "id": "p594DqcwsKgE",
        "outputId": "113ea5ff-8104-475d-d927-f7f1a5bfe252"
      },
      "execution_count": null,
      "outputs": [
        {
          "output_type": "execute_result",
          "data": {
            "text/plain": [
              "801"
            ]
          },
          "metadata": {},
          "execution_count": 50
        }
      ]
    },
    {
      "cell_type": "code",
      "source": [
        "df.drop_duplicates(keep=False, inplace=True)"
      ],
      "metadata": {
        "id": "UzJ25OvTsP0h"
      },
      "execution_count": null,
      "outputs": []
    },
    {
      "cell_type": "code",
      "source": [
        "# numero de linhas e colunas pos drop\n",
        "print(\"Linhas : {}\".format(df.shape[0]))\n",
        "print(\"Colunas : {}\".format(df.shape[1]))"
      ],
      "metadata": {
        "colab": {
          "base_uri": "https://localhost:8080/"
        },
        "id": "Nrg_rbCIs47c",
        "outputId": "8bc0aebe-06e9-41bf-a9f9-c9aa48c4ec76"
      },
      "execution_count": null,
      "outputs": [
        {
          "output_type": "stream",
          "name": "stdout",
          "text": [
            "Linhas : 240696\n",
            "Colunas : 31\n"
          ]
        }
      ]
    },
    {
      "cell_type": "markdown",
      "source": [
        "### Resumo estatistico do DataFrame\n",
        "\n",
        "Podemos utilizar a função `.describe()` para ter um conjunto de informações resumidas do dataframe.\n",
        "\n",
        "* Observa-se que a variavel `Amount` apresenta um **valor medio** de transição de **88.61**, **mediana** de **22.00** e **desvio padrão** de **247.65**.\n",
        "  - **Valor máximo:**  19656.53\n",
        "  - A maioria das transações financeiras são compostas por quantias menores, como o esperado, como vimos abaixo. 75% dos dados estão por volta dos **77.58**"
      ],
      "metadata": {
        "id": "TYUr21QrqK07"
      }
    },
    {
      "cell_type": "code",
      "source": [
        "df.describe()"
      ],
      "metadata": {
        "colab": {
          "base_uri": "https://localhost:8080/",
          "height": 373
        },
        "id": "tYyVE5m1qTq2",
        "outputId": "b88e784f-62b0-432b-fb2c-0533db06edb9"
      },
      "execution_count": null,
      "outputs": [
        {
          "output_type": "execute_result",
          "data": {
            "text/plain": [
              "                Time             V1             V2             V3  \\\n",
              "count  240696.000000  240696.000000  240696.000000  240696.000000   \n",
              "mean    94856.238209       0.010723      -0.007196       0.001899   \n",
              "std     47483.505302       1.939715       1.647598       1.502012   \n",
              "min         0.000000     -56.407510     -72.715728     -33.680984   \n",
              "25%     54236.500000      -0.913586      -0.601531      -0.892135   \n",
              "50%     84751.000000       0.023676       0.062075       0.178109   \n",
              "75%    139333.000000       1.316849       0.797277       1.026511   \n",
              "max    172792.000000       2.451888      22.057729       9.382558   \n",
              "\n",
              "                  V4             V5             V6             V7  \\\n",
              "count  240696.000000  240696.000000  240696.000000  240696.000000   \n",
              "mean       -0.003686       0.002180      -0.002744       0.002953   \n",
              "std         1.414634       1.360991       1.326333       1.207994   \n",
              "min        -5.683171     -42.147898     -26.160506     -43.557242   \n",
              "25%        -0.850468      -0.690461      -0.770021      -0.551264   \n",
              "50%        -0.022444      -0.053070      -0.275726       0.041336   \n",
              "75%         0.738462       0.612253       0.394752       0.570361   \n",
              "max        16.875344      34.801666      23.917837      44.054461   \n",
              "\n",
              "                  V8             V9  ...            V21            V22  \\\n",
              "count  240696.000000  240696.000000  ...  240696.000000  240696.000000   \n",
              "mean       -0.002040      -0.002990  ...      -0.000377       0.000757   \n",
              "std         1.177570       1.094975  ...       0.719199       0.724659   \n",
              "min       -73.216718     -13.434066  ...     -34.830382     -10.933144   \n",
              "25%        -0.209224      -0.647203  ...      -0.228297      -0.543232   \n",
              "50%         0.021469      -0.052724  ...      -0.028910       0.007327   \n",
              "75%         0.324346       0.595273  ...       0.186914       0.529461   \n",
              "max        20.007208      15.594995  ...      22.614889      10.503090   \n",
              "\n",
              "                 V23            V24            V25            V26  \\\n",
              "count  240696.000000  240696.000000  240696.000000  240696.000000   \n",
              "mean       -0.000219       0.000498      -0.000209       0.000016   \n",
              "std         0.628007       0.605179       0.521455       0.481735   \n",
              "min       -44.807735      -2.822684     -10.295397      -2.604551   \n",
              "25%        -0.161774      -0.354395      -0.317235      -0.327006   \n",
              "50%        -0.011175       0.040853       0.016965      -0.052315   \n",
              "75%         0.147440       0.439696       0.350715       0.240223   \n",
              "max        22.528412       4.022866       7.519589       3.517346   \n",
              "\n",
              "                 V27            V28         Amount          Class  \n",
              "count  240696.000000  240696.000000  240696.000000  240696.000000  \n",
              "mean        0.001927       0.000725      88.783765       0.001612  \n",
              "std         0.388613       0.325100     248.035890       0.040117  \n",
              "min       -22.565679     -11.710896       0.000000       0.000000  \n",
              "25%        -0.070418      -0.052654       5.670000       0.000000  \n",
              "50%         0.001344       0.011278      22.000000       0.000000  \n",
              "75%         0.091013       0.078235      77.960000       0.000000  \n",
              "max        12.152401      33.847808   19656.530000       1.000000  \n",
              "\n",
              "[8 rows x 31 columns]"
            ],
            "text/html": [
              "\n",
              "  <div id=\"df-88f166f3-f9dc-4f45-a571-a55ba6342271\">\n",
              "    <div class=\"colab-df-container\">\n",
              "      <div>\n",
              "<style scoped>\n",
              "    .dataframe tbody tr th:only-of-type {\n",
              "        vertical-align: middle;\n",
              "    }\n",
              "\n",
              "    .dataframe tbody tr th {\n",
              "        vertical-align: top;\n",
              "    }\n",
              "\n",
              "    .dataframe thead th {\n",
              "        text-align: right;\n",
              "    }\n",
              "</style>\n",
              "<table border=\"1\" class=\"dataframe\">\n",
              "  <thead>\n",
              "    <tr style=\"text-align: right;\">\n",
              "      <th></th>\n",
              "      <th>Time</th>\n",
              "      <th>V1</th>\n",
              "      <th>V2</th>\n",
              "      <th>V3</th>\n",
              "      <th>V4</th>\n",
              "      <th>V5</th>\n",
              "      <th>V6</th>\n",
              "      <th>V7</th>\n",
              "      <th>V8</th>\n",
              "      <th>V9</th>\n",
              "      <th>...</th>\n",
              "      <th>V21</th>\n",
              "      <th>V22</th>\n",
              "      <th>V23</th>\n",
              "      <th>V24</th>\n",
              "      <th>V25</th>\n",
              "      <th>V26</th>\n",
              "      <th>V27</th>\n",
              "      <th>V28</th>\n",
              "      <th>Amount</th>\n",
              "      <th>Class</th>\n",
              "    </tr>\n",
              "  </thead>\n",
              "  <tbody>\n",
              "    <tr>\n",
              "      <th>count</th>\n",
              "      <td>240696.000000</td>\n",
              "      <td>240696.000000</td>\n",
              "      <td>240696.000000</td>\n",
              "      <td>240696.000000</td>\n",
              "      <td>240696.000000</td>\n",
              "      <td>240696.000000</td>\n",
              "      <td>240696.000000</td>\n",
              "      <td>240696.000000</td>\n",
              "      <td>240696.000000</td>\n",
              "      <td>240696.000000</td>\n",
              "      <td>...</td>\n",
              "      <td>240696.000000</td>\n",
              "      <td>240696.000000</td>\n",
              "      <td>240696.000000</td>\n",
              "      <td>240696.000000</td>\n",
              "      <td>240696.000000</td>\n",
              "      <td>240696.000000</td>\n",
              "      <td>240696.000000</td>\n",
              "      <td>240696.000000</td>\n",
              "      <td>240696.000000</td>\n",
              "      <td>240696.000000</td>\n",
              "    </tr>\n",
              "    <tr>\n",
              "      <th>mean</th>\n",
              "      <td>94856.238209</td>\n",
              "      <td>0.010723</td>\n",
              "      <td>-0.007196</td>\n",
              "      <td>0.001899</td>\n",
              "      <td>-0.003686</td>\n",
              "      <td>0.002180</td>\n",
              "      <td>-0.002744</td>\n",
              "      <td>0.002953</td>\n",
              "      <td>-0.002040</td>\n",
              "      <td>-0.002990</td>\n",
              "      <td>...</td>\n",
              "      <td>-0.000377</td>\n",
              "      <td>0.000757</td>\n",
              "      <td>-0.000219</td>\n",
              "      <td>0.000498</td>\n",
              "      <td>-0.000209</td>\n",
              "      <td>0.000016</td>\n",
              "      <td>0.001927</td>\n",
              "      <td>0.000725</td>\n",
              "      <td>88.783765</td>\n",
              "      <td>0.001612</td>\n",
              "    </tr>\n",
              "    <tr>\n",
              "      <th>std</th>\n",
              "      <td>47483.505302</td>\n",
              "      <td>1.939715</td>\n",
              "      <td>1.647598</td>\n",
              "      <td>1.502012</td>\n",
              "      <td>1.414634</td>\n",
              "      <td>1.360991</td>\n",
              "      <td>1.326333</td>\n",
              "      <td>1.207994</td>\n",
              "      <td>1.177570</td>\n",
              "      <td>1.094975</td>\n",
              "      <td>...</td>\n",
              "      <td>0.719199</td>\n",
              "      <td>0.724659</td>\n",
              "      <td>0.628007</td>\n",
              "      <td>0.605179</td>\n",
              "      <td>0.521455</td>\n",
              "      <td>0.481735</td>\n",
              "      <td>0.388613</td>\n",
              "      <td>0.325100</td>\n",
              "      <td>248.035890</td>\n",
              "      <td>0.040117</td>\n",
              "    </tr>\n",
              "    <tr>\n",
              "      <th>min</th>\n",
              "      <td>0.000000</td>\n",
              "      <td>-56.407510</td>\n",
              "      <td>-72.715728</td>\n",
              "      <td>-33.680984</td>\n",
              "      <td>-5.683171</td>\n",
              "      <td>-42.147898</td>\n",
              "      <td>-26.160506</td>\n",
              "      <td>-43.557242</td>\n",
              "      <td>-73.216718</td>\n",
              "      <td>-13.434066</td>\n",
              "      <td>...</td>\n",
              "      <td>-34.830382</td>\n",
              "      <td>-10.933144</td>\n",
              "      <td>-44.807735</td>\n",
              "      <td>-2.822684</td>\n",
              "      <td>-10.295397</td>\n",
              "      <td>-2.604551</td>\n",
              "      <td>-22.565679</td>\n",
              "      <td>-11.710896</td>\n",
              "      <td>0.000000</td>\n",
              "      <td>0.000000</td>\n",
              "    </tr>\n",
              "    <tr>\n",
              "      <th>25%</th>\n",
              "      <td>54236.500000</td>\n",
              "      <td>-0.913586</td>\n",
              "      <td>-0.601531</td>\n",
              "      <td>-0.892135</td>\n",
              "      <td>-0.850468</td>\n",
              "      <td>-0.690461</td>\n",
              "      <td>-0.770021</td>\n",
              "      <td>-0.551264</td>\n",
              "      <td>-0.209224</td>\n",
              "      <td>-0.647203</td>\n",
              "      <td>...</td>\n",
              "      <td>-0.228297</td>\n",
              "      <td>-0.543232</td>\n",
              "      <td>-0.161774</td>\n",
              "      <td>-0.354395</td>\n",
              "      <td>-0.317235</td>\n",
              "      <td>-0.327006</td>\n",
              "      <td>-0.070418</td>\n",
              "      <td>-0.052654</td>\n",
              "      <td>5.670000</td>\n",
              "      <td>0.000000</td>\n",
              "    </tr>\n",
              "    <tr>\n",
              "      <th>50%</th>\n",
              "      <td>84751.000000</td>\n",
              "      <td>0.023676</td>\n",
              "      <td>0.062075</td>\n",
              "      <td>0.178109</td>\n",
              "      <td>-0.022444</td>\n",
              "      <td>-0.053070</td>\n",
              "      <td>-0.275726</td>\n",
              "      <td>0.041336</td>\n",
              "      <td>0.021469</td>\n",
              "      <td>-0.052724</td>\n",
              "      <td>...</td>\n",
              "      <td>-0.028910</td>\n",
              "      <td>0.007327</td>\n",
              "      <td>-0.011175</td>\n",
              "      <td>0.040853</td>\n",
              "      <td>0.016965</td>\n",
              "      <td>-0.052315</td>\n",
              "      <td>0.001344</td>\n",
              "      <td>0.011278</td>\n",
              "      <td>22.000000</td>\n",
              "      <td>0.000000</td>\n",
              "    </tr>\n",
              "    <tr>\n",
              "      <th>75%</th>\n",
              "      <td>139333.000000</td>\n",
              "      <td>1.316849</td>\n",
              "      <td>0.797277</td>\n",
              "      <td>1.026511</td>\n",
              "      <td>0.738462</td>\n",
              "      <td>0.612253</td>\n",
              "      <td>0.394752</td>\n",
              "      <td>0.570361</td>\n",
              "      <td>0.324346</td>\n",
              "      <td>0.595273</td>\n",
              "      <td>...</td>\n",
              "      <td>0.186914</td>\n",
              "      <td>0.529461</td>\n",
              "      <td>0.147440</td>\n",
              "      <td>0.439696</td>\n",
              "      <td>0.350715</td>\n",
              "      <td>0.240223</td>\n",
              "      <td>0.091013</td>\n",
              "      <td>0.078235</td>\n",
              "      <td>77.960000</td>\n",
              "      <td>0.000000</td>\n",
              "    </tr>\n",
              "    <tr>\n",
              "      <th>max</th>\n",
              "      <td>172792.000000</td>\n",
              "      <td>2.451888</td>\n",
              "      <td>22.057729</td>\n",
              "      <td>9.382558</td>\n",
              "      <td>16.875344</td>\n",
              "      <td>34.801666</td>\n",
              "      <td>23.917837</td>\n",
              "      <td>44.054461</td>\n",
              "      <td>20.007208</td>\n",
              "      <td>15.594995</td>\n",
              "      <td>...</td>\n",
              "      <td>22.614889</td>\n",
              "      <td>10.503090</td>\n",
              "      <td>22.528412</td>\n",
              "      <td>4.022866</td>\n",
              "      <td>7.519589</td>\n",
              "      <td>3.517346</td>\n",
              "      <td>12.152401</td>\n",
              "      <td>33.847808</td>\n",
              "      <td>19656.530000</td>\n",
              "      <td>1.000000</td>\n",
              "    </tr>\n",
              "  </tbody>\n",
              "</table>\n",
              "<p>8 rows × 31 columns</p>\n",
              "</div>\n",
              "      <button class=\"colab-df-convert\" onclick=\"convertToInteractive('df-88f166f3-f9dc-4f45-a571-a55ba6342271')\"\n",
              "              title=\"Convert this dataframe to an interactive table.\"\n",
              "              style=\"display:none;\">\n",
              "        \n",
              "  <svg xmlns=\"http://www.w3.org/2000/svg\" height=\"24px\"viewBox=\"0 0 24 24\"\n",
              "       width=\"24px\">\n",
              "    <path d=\"M0 0h24v24H0V0z\" fill=\"none\"/>\n",
              "    <path d=\"M18.56 5.44l.94 2.06.94-2.06 2.06-.94-2.06-.94-.94-2.06-.94 2.06-2.06.94zm-11 1L8.5 8.5l.94-2.06 2.06-.94-2.06-.94L8.5 2.5l-.94 2.06-2.06.94zm10 10l.94 2.06.94-2.06 2.06-.94-2.06-.94-.94-2.06-.94 2.06-2.06.94z\"/><path d=\"M17.41 7.96l-1.37-1.37c-.4-.4-.92-.59-1.43-.59-.52 0-1.04.2-1.43.59L10.3 9.45l-7.72 7.72c-.78.78-.78 2.05 0 2.83L4 21.41c.39.39.9.59 1.41.59.51 0 1.02-.2 1.41-.59l7.78-7.78 2.81-2.81c.8-.78.8-2.07 0-2.86zM5.41 20L4 18.59l7.72-7.72 1.47 1.35L5.41 20z\"/>\n",
              "  </svg>\n",
              "      </button>\n",
              "      \n",
              "  <style>\n",
              "    .colab-df-container {\n",
              "      display:flex;\n",
              "      flex-wrap:wrap;\n",
              "      gap: 12px;\n",
              "    }\n",
              "\n",
              "    .colab-df-convert {\n",
              "      background-color: #E8F0FE;\n",
              "      border: none;\n",
              "      border-radius: 50%;\n",
              "      cursor: pointer;\n",
              "      display: none;\n",
              "      fill: #1967D2;\n",
              "      height: 32px;\n",
              "      padding: 0 0 0 0;\n",
              "      width: 32px;\n",
              "    }\n",
              "\n",
              "    .colab-df-convert:hover {\n",
              "      background-color: #E2EBFA;\n",
              "      box-shadow: 0px 1px 2px rgba(60, 64, 67, 0.3), 0px 1px 3px 1px rgba(60, 64, 67, 0.15);\n",
              "      fill: #174EA6;\n",
              "    }\n",
              "\n",
              "    [theme=dark] .colab-df-convert {\n",
              "      background-color: #3B4455;\n",
              "      fill: #D2E3FC;\n",
              "    }\n",
              "\n",
              "    [theme=dark] .colab-df-convert:hover {\n",
              "      background-color: #434B5C;\n",
              "      box-shadow: 0px 1px 3px 1px rgba(0, 0, 0, 0.15);\n",
              "      filter: drop-shadow(0px 1px 2px rgba(0, 0, 0, 0.3));\n",
              "      fill: #FFFFFF;\n",
              "    }\n",
              "  </style>\n",
              "\n",
              "      <script>\n",
              "        const buttonEl =\n",
              "          document.querySelector('#df-88f166f3-f9dc-4f45-a571-a55ba6342271 button.colab-df-convert');\n",
              "        buttonEl.style.display =\n",
              "          google.colab.kernel.accessAllowed ? 'block' : 'none';\n",
              "\n",
              "        async function convertToInteractive(key) {\n",
              "          const element = document.querySelector('#df-88f166f3-f9dc-4f45-a571-a55ba6342271');\n",
              "          const dataTable =\n",
              "            await google.colab.kernel.invokeFunction('convertToInteractive',\n",
              "                                                     [key], {});\n",
              "          if (!dataTable) return;\n",
              "\n",
              "          const docLinkHtml = 'Like what you see? Visit the ' +\n",
              "            '<a target=\"_blank\" href=https://colab.research.google.com/notebooks/data_table.ipynb>data table notebook</a>'\n",
              "            + ' to learn more about interactive tables.';\n",
              "          element.innerHTML = '';\n",
              "          dataTable['output_type'] = 'display_data';\n",
              "          await google.colab.output.renderOutput(dataTable, element);\n",
              "          const docLink = document.createElement('div');\n",
              "          docLink.innerHTML = docLinkHtml;\n",
              "          element.appendChild(docLink);\n",
              "        }\n",
              "      </script>\n",
              "    </div>\n",
              "  </div>\n",
              "  "
            ]
          },
          "metadata": {},
          "execution_count": 53
        }
      ]
    },
    {
      "cell_type": "markdown",
      "source": [
        "### Verificando Valores Ausentes\n",
        "\n",
        "Com a função `isnull()` podemos ver a quantidade de dados nulos presentes em um dataframe. No nosso caso, pelo fato de o dataset ter sido tratado antes da utilização, o encontramos sem nenhum valor ausente em nenhuma das colunas"
      ],
      "metadata": {
        "id": "gTJwHduAxljN"
      }
    },
    {
      "cell_type": "code",
      "source": [
        "df.isnull().sum()\n",
        "#df.isna().sum()"
      ],
      "metadata": {
        "colab": {
          "base_uri": "https://localhost:8080/"
        },
        "id": "ed3Ao7FXxqnH",
        "outputId": "9e3258f0-f56a-4a66-f4f8-ea8a6dcf265b"
      },
      "execution_count": null,
      "outputs": [
        {
          "output_type": "execute_result",
          "data": {
            "text/plain": [
              "Time      0\n",
              "V1        0\n",
              "V2        0\n",
              "V3        0\n",
              "V4        0\n",
              "V5        0\n",
              "V6        0\n",
              "V7        0\n",
              "V8        0\n",
              "V9        0\n",
              "V10       0\n",
              "V11       0\n",
              "V12       0\n",
              "V13       0\n",
              "V14       0\n",
              "V15       0\n",
              "V16       0\n",
              "V17       0\n",
              "V18       0\n",
              "V19       0\n",
              "V20       0\n",
              "V21       0\n",
              "V22       0\n",
              "V23       0\n",
              "V24       0\n",
              "V25       0\n",
              "V26       0\n",
              "V27       0\n",
              "V28       0\n",
              "Amount    0\n",
              "Class     0\n",
              "dtype: int64"
            ]
          },
          "metadata": {},
          "execution_count": 54
        }
      ]
    },
    {
      "cell_type": "markdown",
      "source": [
        "### Balanceamento do DataSet\n",
        "\n",
        "A partir de um gráfico de barras, podemos ver o balanceamento do dataset. Vamos avaliar a variável (coluna) `class` e comparar quantas transações foram fraudulentas com transações normais.\n",
        "\n"
      ],
      "metadata": {
        "id": "EwL4s6VUyQuA"
      }
    },
    {
      "cell_type": "code",
      "source": [
        "# avaliando a variavel class, vamos ver quantos sao 0: sem fraudes e quantos 1: fraudulentos\n",
        "normal = (df['Class'] == 0).sum()\n",
        "fraude = (df['Class'] == 1).sum()\n",
        "\n",
        "print(\"Quantidade de transações normais (0) : {}\".format(normal))\n",
        "print(\"Quantidade de fraudes detectadas (1) : {}\".format(fraude))\n",
        "print('\\nFraudes representam {:.4f}% do dataset\\n'.format((fraude/normal)*100))\n",
        "\n",
        "\n",
        "# plotando o grafico\n",
        "\n",
        "fig, ax = plt.subplots(figsize=(5,5))\n",
        "\n",
        "sns.countplot('Class',data=df, ax=ax)\n",
        "ax.set_title('Não Fraude vs Fraude')\n",
        "\n",
        "plt.tight_layout()\n"
      ],
      "metadata": {
        "colab": {
          "base_uri": "https://localhost:8080/",
          "height": 472
        },
        "id": "IlhZQmtzzOgf",
        "outputId": "c42d3a5a-dfa4-4733-bb83-82e0ec75fe32"
      },
      "execution_count": null,
      "outputs": [
        {
          "output_type": "stream",
          "name": "stdout",
          "text": [
            "Quantidade de transações normais (0) : 240308\n",
            "Quantidade de fraudes detectadas (1) : 388\n",
            "\n",
            "Fraudes representam 0.1615% do dataset\n",
            "\n"
          ]
        },
        {
          "output_type": "display_data",
          "data": {
            "text/plain": [
              "<Figure size 360x360 with 1 Axes>"
            ],
            "image/png": "[encoded data removed]"
          },
          "metadata": {}
        }
      ]
    },
    {
      "cell_type": "markdown",
      "source": [
        "Nota-se claramente o desbalanceamento do dataset. Iremos corrigir o problema a seguir com algumas tecnicas de padronização/normalização/parametrização "
      ],
      "metadata": {
        "id": "bcj7a2PoFtDn"
      }
    },
    {
      "cell_type": "markdown",
      "source": [
        "### Avaliando histogramas das transações ao longo do tempo\n",
        "\n",
        "* Plotar os seguintes histogramas:\n",
        "    * Variável `Time`\n",
        "        * Fraude (`Class == 1`)\n",
        "        * Normal (`Class == 0`)\n",
        "    * Variável `Amount`\n",
        "        * Fraude (`Class == 1`)\n",
        "        * Normal (`Class == 0`)\n",
        "\n",
        "* Foi dividido as quantidades de transações e valores em 3 faixas representada pelas barras verticais. Nota-se que a maior quantidade de transações são para valores menores, o que ja era o esperado."
      ],
      "metadata": {
        "id": "4fQTfbFi8gob"
      }
    },
    {
      "cell_type": "code",
      "source": [
        "# plotando histograma para 'Fraudes/NaoFraudes pelo tempo'\n",
        "\n",
        "fig, (ax1, ax2) = plt.subplots(nrows=2, ncols=1, figsize=(10,5))\n",
        "\n",
        "ax1.hist(df.Time[df.Class ==0], bins=40)\n",
        "ax1.set_title('Transação \"Normal\"')\n",
        "ax1.set_ylabel('Transações')\n",
        "ax1.set_xlabel('Tempo (s)')\n",
        "\n",
        "ax2.hist(df.Time[df.Class ==1], bins=40)\n",
        "ax2.set_title('Transação \"Fraude\"')\n",
        "ax2.set_ylabel('Transações')\n",
        "ax2.set_xlabel('Tempo (s)')\n",
        "\n",
        "\n",
        "plt.tight_layout()"
      ],
      "metadata": {
        "colab": {
          "base_uri": "https://localhost:8080/",
          "height": 389
        },
        "id": "SVcsYBbo82O-",
        "outputId": "e537337a-c9e7-49a9-dbd2-de00d743d641"
      },
      "execution_count": null,
      "outputs": [
        {
          "output_type": "display_data",
          "data": {
            "text/plain": [
              "<Figure size 720x360 with 2 Axes>"
            ],
            "image/png": "[encoded data removed]"
          },
          "metadata": {}
        }
      ]
    },
    {
      "cell_type": "code",
      "source": [
        "# plotando histograma para transação Fraude/NaoFraude por Amount (quantidade)\n",
        "\n",
        "fig, (ax1, ax2) = plt.subplots(nrows=2, ncols=1, figsize=(10,5))\n",
        "\n",
        "ax1.hist(df.Amount[df.Class == 0], bins=3)\n",
        "ax1.set_title('Transações \"Normal\"')\n",
        "ax1.set_ylabel('Quantidade de Transações')\n",
        "ax1.set_xlabel('Valor da Transaçãs')\n",
        "\n",
        "ax2.hist(df.Amount[df.Class == 1], bins=3)\n",
        "ax2.set_title('Transações \"Fraude\"')\n",
        "ax2.set_ylabel('Quantidade de Transações')\n",
        "ax2.set_xlabel('Valor das Transações')\n",
        "\n",
        "plt.tight_layout()"
      ],
      "metadata": {
        "colab": {
          "base_uri": "https://localhost:8080/",
          "height": 389
        },
        "id": "vYVcr0U2-ubq",
        "outputId": "2ae99b2b-93da-4610-8f5c-add335a63301"
      },
      "execution_count": null,
      "outputs": [
        {
          "output_type": "display_data",
          "data": {
            "text/plain": [
              "<Figure size 720x360 with 2 Axes>"
            ],
            "image/png": "[encoded data removed]"
          },
          "metadata": {}
        }
      ]
    },
    {
      "cell_type": "markdown",
      "source": [
        "### Observando os 'BoxPlot' para a variável **Amount**\n",
        "\n",
        "* Plotar um `boxplot` para a variável `Amount` quando houve fraude (`Class == 1`)\n",
        "* Plotar uma matriz de correlação"
      ],
      "metadata": {
        "id": "YJf8rq-DKJmM"
      }
    },
    {
      "cell_type": "code",
      "source": [
        "# plotando boxplot para a quantidade de fraudes \n",
        "fig, ax = plt.subplots(figsize=(5,10))\n",
        "\n",
        "#sns.boxplot(df.Amount[df.Class ==1])\n",
        "sns.boxplot(df.Class,df.Amount, showmeans=True,ax=ax)\n",
        "plt.ylim(-50,450)\n",
        "plt.xticks([0,1], ['Normal','Fraude'])\n",
        "plt.tight_layout()"
      ],
      "metadata": {
        "colab": {
          "base_uri": "https://localhost:8080/",
          "height": 749
        },
        "id": "r_FKI802Kte0",
        "outputId": "4287979e-ae7f-4e81-f8af-7fe24868826d"
      },
      "execution_count": null,
      "outputs": [
        {
          "output_type": "display_data",
          "data": {
            "text/plain": [
              "<Figure size 360x720 with 1 Axes>"
            ],
            "image/png": "[encoded data removed]"
          },
          "metadata": {}
        }
      ]
    },
    {
      "cell_type": "markdown",
      "source": [
        "O boxplot nos motra a dispersão dos dados, principalmente a mediana. Com o comando 'showmeans' conseguimos plotar a média também, representada pela seta verdade. \n",
        "\n",
        "A media dos valores das fraudes é: **130.92**, no caso, a maioria das transações fraudulentas são nessa faixa de valores menores. Como vimos, apesar de ter outliers (representando transações de valores maiores), são poucos.\n",
        "\n",
        "Esse tipo de gráfico também permite enxergar a presença de *OUTLIERS*, mas nesse caso, temos que nos atentar pois os outliers podem ser as fraudes que estamos analisando, sendo assim, iremos deixa-los."
      ],
      "metadata": {
        "id": "NDCUDoZJDWQr"
      }
    },
    {
      "cell_type": "code",
      "source": [
        "# verificando as informações estatísticas para as fraudes\n",
        "#df[(df.Class == 1) & (df.Amount < 2000)]['Amount'].describe()\n",
        "(df.Amount[df.Class==1]).describe()"
      ],
      "metadata": {
        "colab": {
          "base_uri": "https://localhost:8080/"
        },
        "id": "eS-ZrNFxBI4J",
        "outputId": "7ea5264c-e520-4baa-8419-238cf976c8fe"
      },
      "execution_count": null,
      "outputs": [
        {
          "output_type": "execute_result",
          "data": {
            "text/plain": [
              "count     388.000000\n",
              "mean      130.929046\n",
              "std       274.638242\n",
              "min         0.000000\n",
              "25%         1.000000\n",
              "50%        12.310000\n",
              "75%       106.637500\n",
              "max      2125.870000\n",
              "Name: Amount, dtype: float64"
            ]
          },
          "metadata": {},
          "execution_count": 59
        }
      ]
    },
    {
      "cell_type": "markdown",
      "metadata": {
        "id": "ULe7z0jZt0EH"
      },
      "source": [
        "## Preparação dos Dados\n",
        "\n",
        "* Notamos a alguns passos acima que o dataset é extremamente desbalanceado, ou seja, se olharmos para a variável `Class` onde é descrito as fraudes, vimos que o numero de fraudes equivale a **0.1615%** de todo o dataset, enquanto as transações normais ocupam o restante, **99.8385%**. Sendo assim, precisamos fazer um trabalho de pre-processamento dos dados \n",
        "\n",
        "* Escalonar\n",
        "* Normalizar\n",
        "* Padronizar\n",
        "\n",
        "### Padronizar as colunas `Time` e `Amount`\n",
        "\n",
        "* Iremos padronizar as colunas `Time` e `Amount` que nao foram tratadas previamente. Para isso sera utilizado a função **`StandardScaler()`** da biblioteca sklearn, e o `fit_transform`. A função `.reshape()` também é necessária, visto que precisamos de um array 2D e temos apenas 1D originalmente."
      ]
    },
    {
      "cell_type": "code",
      "metadata": {
        "id": "IqfjG_SUSTi-",
        "colab": {
          "base_uri": "https://localhost:8080/",
          "height": 282
        },
        "outputId": "2d771aec-b8fc-458d-9c1a-783ff8b642c9"
      },
      "source": [
        "# padronizar as colunas Time e Amount\n",
        "df_clean = df.copy()\n",
        "\n",
        "# definindo a função \n",
        "std = StandardScaler()\n",
        "\n",
        "# criar as novas colunas padronizadas\n",
        "df_clean['std_amount'] = std.fit_transform(df_clean['Amount'].values.reshape(-1,1))\n",
        "df_clean['std_time'] = std.fit_transform(df_clean['Time'].values.reshape(-1,1))\n",
        "\n",
        "\n",
        "# removendo as colunas antigas de `Amount` e `Time`\n",
        "df_clean.drop(columns=['Time','Amount'], axis =1, inplace=True)\n",
        "\n",
        "df_clean.head()"
      ],
      "execution_count": null,
      "outputs": [
        {
          "output_type": "execute_result",
          "data": {
            "text/plain": [
              "         V1        V2        V3        V4        V5        V6        V7  \\\n",
              "0 -1.359807 -0.072781  2.536347  1.378155 -0.338321  0.462388  0.239599   \n",
              "1  1.191857  0.266151  0.166480  0.448154  0.060018 -0.082361 -0.078803   \n",
              "2 -1.358354 -1.340163  1.773209  0.379780 -0.503198  1.800499  0.791461   \n",
              "3 -0.966272 -0.185226  1.792993 -0.863291 -0.010309  1.247203  0.237609   \n",
              "4 -1.158233  0.877737  1.548718  0.403034 -0.407193  0.095921  0.592941   \n",
              "\n",
              "         V8        V9       V10  ...       V22       V23       V24       V25  \\\n",
              "0  0.098698  0.363787  0.090794  ...  0.277838 -0.110474  0.066928  0.128539   \n",
              "1  0.085102 -0.255425 -0.166974  ... -0.638672  0.101288 -0.339846  0.167170   \n",
              "2  0.247676 -1.514654  0.207643  ...  0.771679  0.909412 -0.689281 -0.327642   \n",
              "3  0.377436 -1.387024 -0.054952  ...  0.005274 -0.190321 -1.175575  0.647376   \n",
              "4 -0.270533  0.817739  0.753074  ...  0.798278 -0.137458  0.141267 -0.206010   \n",
              "\n",
              "        V26       V27       V28  Class  std_amount  std_time  \n",
              "0 -0.189115  0.133558 -0.021053      0    0.245272 -1.997671  \n",
              "1  0.125895 -0.008983  0.014724      0   -0.347103 -1.997671  \n",
              "2 -0.139097 -0.055353 -0.059752      0    1.168689 -1.997650  \n",
              "3 -0.221929  0.062723  0.061458      0    0.139965 -1.997650  \n",
              "4  0.502292  0.219422  0.215153      0   -0.075771 -1.997629  \n",
              "\n",
              "[5 rows x 31 columns]"
            ],
            "text/html": [
              "\n",
              "  <div id=\"df-39ad0066-e131-4958-8e21-e8d219f8839f\">\n",
              "    <div class=\"colab-df-container\">\n",
              "      <div>\n",
              "<style scoped>\n",
              "    .dataframe tbody tr th:only-of-type {\n",
              "        vertical-align: middle;\n",
              "    }\n",
              "\n",
              "    .dataframe tbody tr th {\n",
              "        vertical-align: top;\n",
              "    }\n",
              "\n",
              "    .dataframe thead th {\n",
              "        text-align: right;\n",
              "    }\n",
              "</style>\n",
              "<table border=\"1\" class=\"dataframe\">\n",
              "  <thead>\n",
              "    <tr style=\"text-align: right;\">\n",
              "      <th></th>\n",
              "      <th>V1</th>\n",
              "      <th>V2</th>\n",
              "      <th>V3</th>\n",
              "      <th>V4</th>\n",
              "      <th>V5</th>\n",
              "      <th>V6</th>\n",
              "      <th>V7</th>\n",
              "      <th>V8</th>\n",
              "      <th>V9</th>\n",
              "      <th>V10</th>\n",
              "      <th>...</th>\n",
              "      <th>V22</th>\n",
              "      <th>V23</th>\n",
              "      <th>V24</th>\n",
              "      <th>V25</th>\n",
              "      <th>V26</th>\n",
              "      <th>V27</th>\n",
              "      <th>V28</th>\n",
              "      <th>Class</th>\n",
              "      <th>std_amount</th>\n",
              "      <th>std_time</th>\n",
              "    </tr>\n",
              "  </thead>\n",
              "  <tbody>\n",
              "    <tr>\n",
              "      <th>0</th>\n",
              "      <td>-1.359807</td>\n",
              "      <td>-0.072781</td>\n",
              "      <td>2.536347</td>\n",
              "      <td>1.378155</td>\n",
              "      <td>-0.338321</td>\n",
              "      <td>0.462388</td>\n",
              "      <td>0.239599</td>\n",
              "      <td>0.098698</td>\n",
              "      <td>0.363787</td>\n",
              "      <td>0.090794</td>\n",
              "      <td>...</td>\n",
              "      <td>0.277838</td>\n",
              "      <td>-0.110474</td>\n",
              "      <td>0.066928</td>\n",
              "      <td>0.128539</td>\n",
              "      <td>-0.189115</td>\n",
              "      <td>0.133558</td>\n",
              "      <td>-0.021053</td>\n",
              "      <td>0</td>\n",
              "      <td>0.245272</td>\n",
              "      <td>-1.997671</td>\n",
              "    </tr>\n",
              "    <tr>\n",
              "      <th>1</th>\n",
              "      <td>1.191857</td>\n",
              "      <td>0.266151</td>\n",
              "      <td>0.166480</td>\n",
              "      <td>0.448154</td>\n",
              "      <td>0.060018</td>\n",
              "      <td>-0.082361</td>\n",
              "      <td>-0.078803</td>\n",
              "      <td>0.085102</td>\n",
              "      <td>-0.255425</td>\n",
              "      <td>-0.166974</td>\n",
              "      <td>...</td>\n",
              "      <td>-0.638672</td>\n",
              "      <td>0.101288</td>\n",
              "      <td>-0.339846</td>\n",
              "      <td>0.167170</td>\n",
              "      <td>0.125895</td>\n",
              "      <td>-0.008983</td>\n",
              "      <td>0.014724</td>\n",
              "      <td>0</td>\n",
              "      <td>-0.347103</td>\n",
              "      <td>-1.997671</td>\n",
              "    </tr>\n",
              "    <tr>\n",
              "      <th>2</th>\n",
              "      <td>-1.358354</td>\n",
              "      <td>-1.340163</td>\n",
              "      <td>1.773209</td>\n",
              "      <td>0.379780</td>\n",
              "      <td>-0.503198</td>\n",
              "      <td>1.800499</td>\n",
              "      <td>0.791461</td>\n",
              "      <td>0.247676</td>\n",
              "      <td>-1.514654</td>\n",
              "      <td>0.207643</td>\n",
              "      <td>...</td>\n",
              "      <td>0.771679</td>\n",
              "      <td>0.909412</td>\n",
              "      <td>-0.689281</td>\n",
              "      <td>-0.327642</td>\n",
              "      <td>-0.139097</td>\n",
              "      <td>-0.055353</td>\n",
              "      <td>-0.059752</td>\n",
              "      <td>0</td>\n",
              "      <td>1.168689</td>\n",
              "      <td>-1.997650</td>\n",
              "    </tr>\n",
              "    <tr>\n",
              "      <th>3</th>\n",
              "      <td>-0.966272</td>\n",
              "      <td>-0.185226</td>\n",
              "      <td>1.792993</td>\n",
              "      <td>-0.863291</td>\n",
              "      <td>-0.010309</td>\n",
              "      <td>1.247203</td>\n",
              "      <td>0.237609</td>\n",
              "      <td>0.377436</td>\n",
              "      <td>-1.387024</td>\n",
              "      <td>-0.054952</td>\n",
              "      <td>...</td>\n",
              "      <td>0.005274</td>\n",
              "      <td>-0.190321</td>\n",
              "      <td>-1.175575</td>\n",
              "      <td>0.647376</td>\n",
              "      <td>-0.221929</td>\n",
              "      <td>0.062723</td>\n",
              "      <td>0.061458</td>\n",
              "      <td>0</td>\n",
              "      <td>0.139965</td>\n",
              "      <td>-1.997650</td>\n",
              "    </tr>\n",
              "    <tr>\n",
              "      <th>4</th>\n",
              "      <td>-1.158233</td>\n",
              "      <td>0.877737</td>\n",
              "      <td>1.548718</td>\n",
              "      <td>0.403034</td>\n",
              "      <td>-0.407193</td>\n",
              "      <td>0.095921</td>\n",
              "      <td>0.592941</td>\n",
              "      <td>-0.270533</td>\n",
              "      <td>0.817739</td>\n",
              "      <td>0.753074</td>\n",
              "      <td>...</td>\n",
              "      <td>0.798278</td>\n",
              "      <td>-0.137458</td>\n",
              "      <td>0.141267</td>\n",
              "      <td>-0.206010</td>\n",
              "      <td>0.502292</td>\n",
              "      <td>0.219422</td>\n",
              "      <td>0.215153</td>\n",
              "      <td>0</td>\n",
              "      <td>-0.075771</td>\n",
              "      <td>-1.997629</td>\n",
              "    </tr>\n",
              "  </tbody>\n",
              "</table>\n",
              "<p>5 rows × 31 columns</p>\n",
              "</div>\n",
              "      <button class=\"colab-df-convert\" onclick=\"convertToInteractive('df-39ad0066-e131-4958-8e21-e8d219f8839f')\"\n",
              "              title=\"Convert this dataframe to an interactive table.\"\n",
              "              style=\"display:none;\">\n",
              "        \n",
              "  <svg xmlns=\"http://www.w3.org/2000/svg\" height=\"24px\"viewBox=\"0 0 24 24\"\n",
              "       width=\"24px\">\n",
              "    <path d=\"M0 0h24v24H0V0z\" fill=\"none\"/>\n",
              "    <path d=\"M18.56 5.44l.94 2.06.94-2.06 2.06-.94-2.06-.94-.94-2.06-.94 2.06-2.06.94zm-11 1L8.5 8.5l.94-2.06 2.06-.94-2.06-.94L8.5 2.5l-.94 2.06-2.06.94zm10 10l.94 2.06.94-2.06 2.06-.94-2.06-.94-.94-2.06-.94 2.06-2.06.94z\"/><path d=\"M17.41 7.96l-1.37-1.37c-.4-.4-.92-.59-1.43-.59-.52 0-1.04.2-1.43.59L10.3 9.45l-7.72 7.72c-.78.78-.78 2.05 0 2.83L4 21.41c.39.39.9.59 1.41.59.51 0 1.02-.2 1.41-.59l7.78-7.78 2.81-2.81c.8-.78.8-2.07 0-2.86zM5.41 20L4 18.59l7.72-7.72 1.47 1.35L5.41 20z\"/>\n",
              "  </svg>\n",
              "      </button>\n",
              "      \n",
              "  <style>\n",
              "    .colab-df-container {\n",
              "      display:flex;\n",
              "      flex-wrap:wrap;\n",
              "      gap: 12px;\n",
              "    }\n",
              "\n",
              "    .colab-df-convert {\n",
              "      background-color: #E8F0FE;\n",
              "      border: none;\n",
              "      border-radius: 50%;\n",
              "      cursor: pointer;\n",
              "      display: none;\n",
              "      fill: #1967D2;\n",
              "      height: 32px;\n",
              "      padding: 0 0 0 0;\n",
              "      width: 32px;\n",
              "    }\n",
              "\n",
              "    .colab-df-convert:hover {\n",
              "      background-color: #E2EBFA;\n",
              "      box-shadow: 0px 1px 2px rgba(60, 64, 67, 0.3), 0px 1px 3px 1px rgba(60, 64, 67, 0.15);\n",
              "      fill: #174EA6;\n",
              "    }\n",
              "\n",
              "    [theme=dark] .colab-df-convert {\n",
              "      background-color: #3B4455;\n",
              "      fill: #D2E3FC;\n",
              "    }\n",
              "\n",
              "    [theme=dark] .colab-df-convert:hover {\n",
              "      background-color: #434B5C;\n",
              "      box-shadow: 0px 1px 3px 1px rgba(0, 0, 0, 0.15);\n",
              "      filter: drop-shadow(0px 1px 2px rgba(0, 0, 0, 0.3));\n",
              "      fill: #FFFFFF;\n",
              "    }\n",
              "  </style>\n",
              "\n",
              "      <script>\n",
              "        const buttonEl =\n",
              "          document.querySelector('#df-39ad0066-e131-4958-8e21-e8d219f8839f button.colab-df-convert');\n",
              "        buttonEl.style.display =\n",
              "          google.colab.kernel.accessAllowed ? 'block' : 'none';\n",
              "\n",
              "        async function convertToInteractive(key) {\n",
              "          const element = document.querySelector('#df-39ad0066-e131-4958-8e21-e8d219f8839f');\n",
              "          const dataTable =\n",
              "            await google.colab.kernel.invokeFunction('convertToInteractive',\n",
              "                                                     [key], {});\n",
              "          if (!dataTable) return;\n",
              "\n",
              "          const docLinkHtml = 'Like what you see? Visit the ' +\n",
              "            '<a target=\"_blank\" href=https://colab.research.google.com/notebooks/data_table.ipynb>data table notebook</a>'\n",
              "            + ' to learn more about interactive tables.';\n",
              "          element.innerHTML = '';\n",
              "          dataTable['output_type'] = 'display_data';\n",
              "          await google.colab.output.renderOutput(dataTable, element);\n",
              "          const docLink = document.createElement('div');\n",
              "          docLink.innerHTML = docLinkHtml;\n",
              "          element.appendChild(docLink);\n",
              "        }\n",
              "      </script>\n",
              "    </div>\n",
              "  </div>\n",
              "  "
            ]
          },
          "metadata": {},
          "execution_count": 60
        }
      ]
    },
    {
      "cell_type": "markdown",
      "source": [
        "### Dividir o conjunto de dados entre treino e validação\n",
        "\n",
        "\n",
        "Separando o dataset entre variáveis de treinamento e teste da maquina preditiva. \n",
        "\n",
        "* **X** -> Contendo as variáveis independentes (*features*) \n",
        "\n",
        "* **y** -> Vetor alvo contendo as variáveis dependentes (variáveis *alvos*)\n",
        "\n",
        "* Para garantir que os conjuntos de Treino e Validação tenham a mesma quantidade de classes proporcionalmente, passamos `stratify=True`.\n"
      ],
      "metadata": {
        "id": "kJM9m1dEVpA9"
      }
    },
    {
      "cell_type": "code",
      "source": [
        "# separando as variaveis do dataset\n",
        "\n",
        "X = df_clean.drop('Class', axis=1)\n",
        "y = df_clean['Class']\n",
        "\n",
        "# dividindo o dataset entre treino e teste\n",
        "\n",
        "X_train, X_test, y_train, y_test = train_test_split(X, y, stratify=y, shuffle=True, random_state=42)"
      ],
      "metadata": {
        "id": "othh6WrgTmTT"
      },
      "execution_count": null,
      "outputs": []
    },
    {
      "cell_type": "markdown",
      "source": [
        "### Balancear o conjunto de dados\n",
        "\n",
        "A classe desbalanceada ocorre quando temos um dataset que possui muitos exemplos de uma classe e poucos exemplos da outra classe, como é nosso caso no predsente dataset, como citado anteriormente a classe das fraudes é um valor extremamente pequeno, 0.17% enquanto a outra.\n",
        "\n",
        "Existem problemas em que esse desbalanceamento é comum como em casos de detecção de fraudes e diagnóstico médico.\n",
        "\n",
        "Uma vez que o número de transações financeiras normais é bem maior que o número de transações fraudulentas, assim como o número de pessoas diagnosticadas com uma determinada doença é bem menor que o número de pessoas sem a doença.\n",
        "\n",
        "Temos algumas técnicas para lidar com esses dados,nesse tutorial vamos abordar os mais utilizados.\n",
        "\n",
        "* **Undersampling – Consiste em reduzir de forma aleatória os exemplos da classe majoritária.** (será utilizada a seguir)\n",
        "\n",
        "* NearMiss – É um algoritmo de undersampling que consiste em reduzir de forma aleatória os exemplos da classe majoritária, porém ele seleciona os exemplos com base na distância.\n",
        "\n",
        "* Oversampling – Consiste em replicar dados aleatórios da classe minoritária. Como estamos duplicando os dados já existentes este método está propício a dar overfitting.\n",
        "\n",
        "* Smote – Consiste em gerar dados sintéticos (não duplicados) da classe minoritária a partir de vizinhos.\n",
        "\n",
        "\n",
        "Será utilizado a função `RandomUnderSampler`, aplicado ao `X` e `y` definido anteriormente.\n",
        "\n"
      ],
      "metadata": {
        "id": "T9E3VnUbh6HV"
      }
    },
    {
      "cell_type": "code",
      "source": [
        "# Utilizando a tecnica UnderSampling>\n",
        "\n",
        "# CRIAR UMA FUNCAO DEF QUE IRA RECEBER CADA MODELO DE PADRONIZACAO E TESTAR E COMPARARe\n",
        "# https://www.kaggle.com/code/saniyainamdar2k1/best-modelling-method-for-imbalanced-datasets\n",
        "\n",
        "# vamos aplicar o balanceamento nas variáveis de treino\n",
        "\n",
        "rus = RandomUnderSampler()\n",
        "X_rus, y_rus = rus.fit_resample(X_train, y_train)\n",
        "\n",
        "# vizualização gráfica, \n",
        "fig, ax = plt.subplots()\n",
        "\n",
        "sns.countplot(y_rus, ax=ax)\n",
        "plt.xticks([0,1], ['Normal','Fraude'])\n",
        "\n",
        "plt.show()\n"
      ],
      "metadata": {
        "colab": {
          "base_uri": "https://localhost:8080/",
          "height": 300
        },
        "id": "JZrdvOLElhJN",
        "outputId": "8ace2387-644e-427b-e54a-241d90f38958"
      },
      "execution_count": null,
      "outputs": [
        {
          "output_type": "display_data",
          "data": {
            "text/plain": [
              "<Figure size 432x288 with 1 Axes>"
            ],
            "image/png": "[encoded data removed]"
          },
          "metadata": {}
        }
      ]
    },
    {
      "cell_type": "markdown",
      "source": [
        "### Montando matriz de correlações\n",
        "\n",
        "Iremos montar uma matriz de correlacoes tanto para o dataset atual, balanceado quanto para o original, e comparar graficamente se se o balanceamento foi efetivo. \n",
        "\n",
        "* É possivel notar que após o balanceamento do dataset ficou muito mais evidentes as correlações entre as variáveis conforme o grafico abaixo.\n"
      ],
      "metadata": {
        "id": "2AsPzxxlSQVR"
      }
    },
    {
      "cell_type": "code",
      "source": [
        "# vamos criar matriz de correlações\n",
        "corr = X_train.corr()\n",
        "corr_balanceado = X_rus.corr()\n",
        "\n",
        "# plotando as tuas matrizes de correlacoes\n",
        "\n",
        "fig, (ax1, ax2) = plt.subplots(nrows=1, ncols=2, figsize=(18,8))\n",
        "fig.suptitle('Matriz de Correlações')\n",
        "\n",
        "# dataset original\n",
        "sns.heatmap(corr, xticklabels=corr.columns, yticklabels=corr.columns, linewidths=1, cmap='coolwarm', ax=ax1)\n",
        "ax1.set_title('Original')\n",
        "\n",
        "# dataset balanceado\n",
        "sns.heatmap(corr_balanceado, xticklabels=corr.columns, yticklabels=corr.columns, linewidths=1, cmap='coolwarm', ax=ax2)\n",
        "ax2.set_title('Balanceado')\n",
        "\n",
        "plt.tight_layout()\n"
      ],
      "metadata": {
        "colab": {
          "base_uri": "https://localhost:8080/",
          "height": 539
        },
        "id": "A7A05xnDSZyx",
        "outputId": "f414c1f8-4142-4a9e-fcec-e8241f6af015"
      },
      "execution_count": null,
      "outputs": [
        {
          "output_type": "display_data",
          "data": {
            "text/plain": [
              "<Figure size 1296x576 with 4 Axes>"
            ],
            "image/png": "[encoded data removed]"
          },
          "metadata": {}
        }
      ]
    },
    {
      "cell_type": "markdown",
      "source": [
        "## Modelo de Machine Learning\n",
        "\n",
        "* Construir um modelo de **`classificação`** \n",
        "\n",
        "Sistemas de classificação são usados ​​geralmente quando as previsões são de natureza distinta, ou seja, um simples “sim ou não”. Exemplo: Mapeamento de uma imagem de uma pessoa e classificação como masculino ou feminino, ou nesse caso, se a transação é uma fraude ou normal. \n",
        "\n",
        "* Será criado uma `Função` para auxiliar a escolher o melhor modelo de machine learning! Utilizando a estatistica \n",
        "\n",
        "* Recall: \n",
        "Numero de exemplos verdadeiros que foram previstos corretamente, indica quão bom foi o modelo para prever os **True Positive**, sendo que os positivos são as classes que desejamos analisar, nesse caso, as fraudes.\n"
      ],
      "metadata": {
        "id": "EMfin1ghXQuW"
      }
    },
    {
      "cell_type": "code",
      "source": [
        "def val_model(X, y, clf, quite=False):\n",
        "    \"\"\"\n",
        "    Realiza cross-validation com os dados de treino para determinado modelo.\n",
        "\n",
        "    # Arguments\n",
        "        X: DataFrame, contém as variáveis independetes.\n",
        "        y: Series, vetor contendo a variável alvo.\n",
        "        clf: modelo classificador do Scikit-learn.\n",
        "        quite: bool, indicando se a função deve imprimir os resultados ou não.\n",
        "\n",
        "    # Returns\n",
        "        float, média dos scores da cross-validation.\n",
        "    \"\"\"\n",
        "    \n",
        "    X = np.array(X)\n",
        "    y = np.array(y)\n",
        "\n",
        "    pipeline = make_pipeline(StandardScaler(), clf)\n",
        "    scores = cross_val_score(pipeline, X, y, scoring='recall')\n",
        "\n",
        "    if quite == False:\n",
        "        print(\"Recall: {:.2f} (+/- {:.2f})\".format(scores.mean(), scores.std()))\n",
        "    \n",
        "    return scores.mean()"
      ],
      "metadata": {
        "id": "Nyz-lHv3LHQj"
      },
      "execution_count": null,
      "outputs": []
    },
    {
      "cell_type": "code",
      "source": [
        "rf = RandomForestClassifier() \n",
        "dt = DecisionTreeClassifier()\n",
        "lgr = LogisticRegression()\n",
        "xgb = XGBClassifier()\n",
        "lgbm = LGBMClassifier()\n",
        "\n",
        "model = [] # salvar os modelos\n",
        "recall = [] # salvar os resultados do recall estatistica\n",
        "\n",
        "#avaliar o desempenho de diversos modelos \n",
        "for clf in (rf, dt, lgr, xgb, lgbm):\n",
        "  model.append(clf.__class__.__name__)\n",
        "  recall.append(val_model(X_rus, y_rus, clf, quite=True))\n",
        "\n",
        "(pd.DataFrame(data=recall, index=model, columns=['Recall'])).sort_values(by='Recall',ascending=False)\n"
      ],
      "metadata": {
        "colab": {
          "base_uri": "https://localhost:8080/",
          "height": 221
        },
        "id": "ZklbAX4ZLgXg",
        "outputId": "8e6aa602-11a1-4b9e-8652-6b57675cbaa6"
      },
      "execution_count": null,
      "outputs": [
        {
          "output_type": "execute_result",
          "data": {
            "text/plain": [
              "                          Recall\n",
              "XGBClassifier           0.910637\n",
              "LGBMClassifier          0.910579\n",
              "RandomForestClassifier  0.900409\n",
              "DecisionTreeClassifier  0.896902\n",
              "LogisticRegression      0.890006"
            ],
            "text/html": [
              "\n",
              "  <div id=\"df-8ad02c80-db5f-4935-bec3-8822f41a13ad\">\n",
              "    <div class=\"colab-df-container\">\n",
              "      <div>\n",
              "<style scoped>\n",
              "    .dataframe tbody tr th:only-of-type {\n",
              "        vertical-align: middle;\n",
              "    }\n",
              "\n",
              "    .dataframe tbody tr th {\n",
              "        vertical-align: top;\n",
              "    }\n",
              "\n",
              "    .dataframe thead th {\n",
              "        text-align: right;\n",
              "    }\n",
              "</style>\n",
              "<table border=\"1\" class=\"dataframe\">\n",
              "  <thead>\n",
              "    <tr style=\"text-align: right;\">\n",
              "      <th></th>\n",
              "      <th>Recall</th>\n",
              "    </tr>\n",
              "  </thead>\n",
              "  <tbody>\n",
              "    <tr>\n",
              "      <th>XGBClassifier</th>\n",
              "      <td>0.910637</td>\n",
              "    </tr>\n",
              "    <tr>\n",
              "      <th>LGBMClassifier</th>\n",
              "      <td>0.910579</td>\n",
              "    </tr>\n",
              "    <tr>\n",
              "      <th>RandomForestClassifier</th>\n",
              "      <td>0.900409</td>\n",
              "    </tr>\n",
              "    <tr>\n",
              "      <th>DecisionTreeClassifier</th>\n",
              "      <td>0.896902</td>\n",
              "    </tr>\n",
              "    <tr>\n",
              "      <th>LogisticRegression</th>\n",
              "      <td>0.890006</td>\n",
              "    </tr>\n",
              "  </tbody>\n",
              "</table>\n",
              "</div>\n",
              "      <button class=\"colab-df-convert\" onclick=\"convertToInteractive('df-8ad02c80-db5f-4935-bec3-8822f41a13ad')\"\n",
              "              title=\"Convert this dataframe to an interactive table.\"\n",
              "              style=\"display:none;\">\n",
              "        \n",
              "  <svg xmlns=\"http://www.w3.org/2000/svg\" height=\"24px\"viewBox=\"0 0 24 24\"\n",
              "       width=\"24px\">\n",
              "    <path d=\"M0 0h24v24H0V0z\" fill=\"none\"/>\n",
              "    <path d=\"M18.56 5.44l.94 2.06.94-2.06 2.06-.94-2.06-.94-.94-2.06-.94 2.06-2.06.94zm-11 1L8.5 8.5l.94-2.06 2.06-.94-2.06-.94L8.5 2.5l-.94 2.06-2.06.94zm10 10l.94 2.06.94-2.06 2.06-.94-2.06-.94-.94-2.06-.94 2.06-2.06.94z\"/><path d=\"M17.41 7.96l-1.37-1.37c-.4-.4-.92-.59-1.43-.59-.52 0-1.04.2-1.43.59L10.3 9.45l-7.72 7.72c-.78.78-.78 2.05 0 2.83L4 21.41c.39.39.9.59 1.41.59.51 0 1.02-.2 1.41-.59l7.78-7.78 2.81-2.81c.8-.78.8-2.07 0-2.86zM5.41 20L4 18.59l7.72-7.72 1.47 1.35L5.41 20z\"/>\n",
              "  </svg>\n",
              "      </button>\n",
              "      \n",
              "  <style>\n",
              "    .colab-df-container {\n",
              "      display:flex;\n",
              "      flex-wrap:wrap;\n",
              "      gap: 12px;\n",
              "    }\n",
              "\n",
              "    .colab-df-convert {\n",
              "      background-color: #E8F0FE;\n",
              "      border: none;\n",
              "      border-radius: 50%;\n",
              "      cursor: pointer;\n",
              "      display: none;\n",
              "      fill: #1967D2;\n",
              "      height: 32px;\n",
              "      padding: 0 0 0 0;\n",
              "      width: 32px;\n",
              "    }\n",
              "\n",
              "    .colab-df-convert:hover {\n",
              "      background-color: #E2EBFA;\n",
              "      box-shadow: 0px 1px 2px rgba(60, 64, 67, 0.3), 0px 1px 3px 1px rgba(60, 64, 67, 0.15);\n",
              "      fill: #174EA6;\n",
              "    }\n",
              "\n",
              "    [theme=dark] .colab-df-convert {\n",
              "      background-color: #3B4455;\n",
              "      fill: #D2E3FC;\n",
              "    }\n",
              "\n",
              "    [theme=dark] .colab-df-convert:hover {\n",
              "      background-color: #434B5C;\n",
              "      box-shadow: 0px 1px 3px 1px rgba(0, 0, 0, 0.15);\n",
              "      filter: drop-shadow(0px 1px 2px rgba(0, 0, 0, 0.3));\n",
              "      fill: #FFFFFF;\n",
              "    }\n",
              "  </style>\n",
              "\n",
              "      <script>\n",
              "        const buttonEl =\n",
              "          document.querySelector('#df-8ad02c80-db5f-4935-bec3-8822f41a13ad button.colab-df-convert');\n",
              "        buttonEl.style.display =\n",
              "          google.colab.kernel.accessAllowed ? 'block' : 'none';\n",
              "\n",
              "        async function convertToInteractive(key) {\n",
              "          const element = document.querySelector('#df-8ad02c80-db5f-4935-bec3-8822f41a13ad');\n",
              "          const dataTable =\n",
              "            await google.colab.kernel.invokeFunction('convertToInteractive',\n",
              "                                                     [key], {});\n",
              "          if (!dataTable) return;\n",
              "\n",
              "          const docLinkHtml = 'Like what you see? Visit the ' +\n",
              "            '<a target=\"_blank\" href=https://colab.research.google.com/notebooks/data_table.ipynb>data table notebook</a>'\n",
              "            + ' to learn more about interactive tables.';\n",
              "          element.innerHTML = '';\n",
              "          dataTable['output_type'] = 'display_data';\n",
              "          await google.colab.output.renderOutput(dataTable, element);\n",
              "          const docLink = document.createElement('div');\n",
              "          docLink.innerHTML = docLinkHtml;\n",
              "          element.appendChild(docLink);\n",
              "        }\n",
              "      </script>\n",
              "    </div>\n",
              "  </div>\n",
              "  "
            ]
          },
          "metadata": {},
          "execution_count": 65
        }
      ]
    },
    {
      "cell_type": "markdown",
      "metadata": {
        "id": "wJNH5qcjRxfX"
      },
      "source": [
        "### Escolha do Modelo:\n",
        "\n",
        "* Entre os tres primeiros modelos de **classificação** em ordem de mais \"precisão\", temos:\n",
        "\n",
        "    - `XGBClassifier` -     modelo 1\n",
        "    - `LGBMClassifier` - modelo 2\n",
        "    - `RandomForestClassifier` - modelo 3\n",
        "    \n",
        "\n",
        "* O modelo a ser escolhido foi o **XGBClassifier** por parecer em primeiro momento mais eficiente, por possuir o maior valor de `recall` ou seja, o modelo que mais acerta a classe observada, no nosso caso, mais acerta as transações que são fraudes."
      ]
    },
    {
      "cell_type": "markdown",
      "source": [
        "#### Testando a maquina preditiva XGBoost sem alterar os parametros"
      ],
      "metadata": {
        "id": "wqVjy35WBKVY"
      }
    },
    {
      "cell_type": "code",
      "source": [
        "# definindo o modelo\n",
        "\n",
        "model = XGBClassifier()\n",
        "\n",
        "model.fit(X_rus, y_rus)\n",
        "\n",
        "# fazer as previsões em cima dos testes\n",
        "\n",
        "y_pred = model.predict(X_test)\n",
        "y_proba = model.predict_proba(X_test)"
      ],
      "metadata": {
        "id": "qCukyQ8bBJuo"
      },
      "execution_count": null,
      "outputs": []
    },
    {
      "cell_type": "markdown",
      "source": [
        "#### Escolhendo metricas estatísticas para avaliação do modelo\n",
        "\n",
        "* **Matriz Confusão:** \n",
        "\n",
        "A matriz confusão nos retorna a classificação do modelo em:\n",
        "\n",
        "\n",
        "\n",
        "\n",
        "      ```\n",
        "      True Positive  | False Positive\n",
        "      ---------------|----------------\n",
        "      False Negative | True Negative\n",
        "      ```\n",
        "\n",
        "\n",
        "Onde conseguimos calcular outro parametros a partir dela, como por exemplo:\n",
        "\n",
        "* **Acuracia:** Diz o quanto o modelo acertou das previsões. (ruim para datasets desbalanceados)\n",
        "       Accuracy = prediçoes corretas / total de predições\n",
        "       Accuracy = TP + TN / (TP + TN + FP + FN)\n",
        "\n",
        "* **Recall:** Previsão dos positivos, ou seja dos acertos, verdadeiros. \n",
        "       Recall = TP / TP + FN \n",
        "\n",
        "* **Precisão:** Qual a proporção de identificações positivas foi realmente correta? O quão bem o modelo trabalhou\n",
        "       Precisão = TP / TP + FP\n",
        "\n",
        "* **F-Score:** Mostra o balanço entre a precisão e o recall do modelo.\n",
        "       F-Score = precisão * recall / precisão + recall\n",
        "\n",
        "* **AUC** e **ROC:** Mostra como o modelo é bom em distinguir duas coisas, no caso sim ou não, ou 0 e 1, como é nosso caso. O valor do `AUC` varia de 0,0 até 1,0 e o limiar entre a classe é 0,5. Ou seja, acima desse limite, o algoritmo classifica em uma classe e abaixo na outra classe. Quanto maior o AUC, melhor.\n",
        "\n",
        "\n"
      ],
      "metadata": {
        "id": "kSb4aV0U5RbX"
      }
    },
    {
      "cell_type": "code",
      "source": [
        "# plotando os resultados\n",
        "\n",
        "#matriz de confusão\n",
        "skplt.metrics.plot_confusion_matrix(y_test, y_pred, normalize=True)\n",
        "\n",
        "#relatorio de classificacao\n",
        "print('Relatório de classificação:\\n',classification_report(y_test, y_pred, digits=4))\n",
        "\n",
        "#auracia do modelo (analisar outras metricas também)\n",
        "print('\\nAcurácia {}\\n'.format(accuracy_score(y_test, y_pred)))\n",
        "\n",
        "#imprimir a área sobre curva, AUC (area under curve)\n",
        "print('\\nAUC: {:.4f}\\n'.format(roc_auc_score(y_test,y_pred)))"
      ],
      "metadata": {
        "colab": {
          "base_uri": "https://localhost:8080/",
          "height": 580
        },
        "id": "W3tutQ45BuvS",
        "outputId": "ff2bac5c-0396-4fa3-a269-2e2beb48efc2"
      },
      "execution_count": null,
      "outputs": [
        {
          "output_type": "stream",
          "name": "stdout",
          "text": [
            "Relatório de classificação:\n",
            "               precision    recall  f1-score   support\n",
            "\n",
            "           0     0.9999    0.9500    0.9743     60077\n",
            "           1     0.0291    0.9278    0.0564        97\n",
            "\n",
            "    accuracy                         0.9499     60174\n",
            "   macro avg     0.5145    0.9389    0.5153     60174\n",
            "weighted avg     0.9983    0.9499    0.9728     60174\n",
            "\n",
            "\n",
            "Acurácia 0.9499451590387875\n",
            "\n",
            "\n",
            "AUC: 0.9389\n",
            "\n"
          ]
        },
        {
          "output_type": "display_data",
          "data": {
            "text/plain": [
              "<Figure size 432x288 with 2 Axes>"
            ],
            "image/png": "[encoded data removed]"
          },
          "metadata": {}
        }
      ]
    },
    {
      "cell_type": "markdown",
      "source": [
        "### Encontrando ajustes otimizados para os parâmetros do XGBoost\n",
        "\n",
        "XGBoost possui inúmeros parâmetros. Alguns afetam mais a qualidade do modelo, outros menos. \n",
        "\n",
        "Será definido:\n",
        "\n",
        "* n_estimator = \n",
        "* max_depth = \n",
        "* min_child_weight = \n",
        "* gamma = \n",
        "* learning_rate = \n",
        "\n"
      ],
      "metadata": {
        "id": "6vBWd7tXyFjb"
      }
    },
    {
      "cell_type": "markdown",
      "source": [
        "#### Numero de estimadores\n",
        "Abaixo, irei ajustar o número de estimadores. O modelo foi instanciado com a `learning_rate=0.1`."
      ],
      "metadata": {
        "id": "DIaaE_i9mO43"
      }
    },
    {
      "cell_type": "code",
      "source": [
        "xgb = XGBClassifier(learning_rate=0.1)\n",
        "\n",
        "params = {'n_estimators':range(0,1000,50)} # testar os estimator de 0 ate 1000 de 50 em 50 \n",
        "\n",
        "#identificar os melhores parametros\n",
        "kfold = StratifiedKFold(n_splits=10, shuffle=True)\n",
        "grid_search = GridSearchCV(xgb, params, scoring='recall', n_jobs=-1, cv=kfold)\n",
        "grid_result = grid_search.fit(X_rus, y_rus)\n",
        "\n",
        "#print \n",
        "print('Melhor: {} para {}'.format(grid_result.best_score_, grid_result.best_params_))"
      ],
      "metadata": {
        "colab": {
          "base_uri": "https://localhost:8080/"
        },
        "id": "nE2kIMmLFkA3",
        "outputId": "9b3d41a3-6a51-4879-e319-34b53333f102"
      },
      "execution_count": null,
      "outputs": [
        {
          "output_type": "stream",
          "name": "stdout",
          "text": [
            "Melhor: 0.9345977011494252 para {'n_estimators': 100}\n"
          ]
        }
      ]
    },
    {
      "cell_type": "markdown",
      "source": [
        "#### Max_depth e min_child_weight"
      ],
      "metadata": {
        "id": "86pa9VyEmc8S"
      }
    },
    {
      "cell_type": "code",
      "source": [
        "xgb = XGBClassifier(learning_rate=0.1, n_estimators = 100)\n",
        "\n",
        "param_grid = {\n",
        "    'max_depth':range(1,8,1),\n",
        "    'min_child_weight':range(1,5,1)\n",
        "}\n",
        "\n",
        "#identificar os melhores paramaetros\n",
        "kfold = StratifiedKFold(n_splits=10, shuffle=True)\n",
        "grid_search = GridSearchCV(xgb, param_grid, scoring='recall', n_jobs=-1, cv=kfold)\n",
        "grid_result = grid_search.fit(X_rus, y_rus)\n",
        "\n",
        "#print\n",
        "print('Melhor: {} para {}'.format(grid_result.best_score_, grid_result.best_params_))"
      ],
      "metadata": {
        "colab": {
          "base_uri": "https://localhost:8080/"
        },
        "id": "QU-3TpUfSi8O",
        "outputId": "09f2ecde-b754-4bc4-8866-18350004e9b8"
      },
      "execution_count": null,
      "outputs": [
        {
          "output_type": "stream",
          "name": "stdout",
          "text": [
            "Melhor: 0.9311494252873563 para {'max_depth': 5, 'min_child_weight': 1}\n"
          ]
        }
      ]
    },
    {
      "cell_type": "markdown",
      "source": [
        "#### Gamma\n",
        "\n",
        "Com os valores de max_depth e min_child_weight é possivel definir o gamma:"
      ],
      "metadata": {
        "id": "iWJNaYRhog7Z"
      }
    },
    {
      "cell_type": "code",
      "source": [
        "xgb = XGBClassifier(learning_rate=0.1, n_estimators=100, max_depth=5, min_child_weight=1)\n",
        "\n",
        "param_grid = {\n",
        "    'gamma':[i/10. for i in range(0,5)]\n",
        "}\n",
        "\n",
        "#identificar os melhores parametros\n",
        "kfold = StratifiedKFold(n_splits=10, shuffle=True)\n",
        "grid_search = GridSearchCV(xgb, param_grid, scoring='recall', n_jobs=-1, cv=kfold)\n",
        "grid_result = grid_search.fit(X_rus, y_rus)\n",
        "\n",
        "#print\n",
        "print('Melhor {} para {}'.format(grid_result.best_score_, grid_result.best_params_))"
      ],
      "metadata": {
        "colab": {
          "base_uri": "https://localhost:8080/"
        },
        "id": "1w-ZdXquL6Ry",
        "outputId": "beb6d6ff-77c4-431a-aa2c-1543c15e1be4"
      },
      "execution_count": null,
      "outputs": [
        {
          "output_type": "stream",
          "name": "stdout",
          "text": [
            "Melhor 0.934712643678161 para {'gamma': 0.4}\n"
          ]
        }
      ]
    },
    {
      "cell_type": "markdown",
      "source": [
        "#### Learning Rate\n",
        "\n",
        "por fim, ao determinar os parametros anteriores, será definido a melhor taxa de aprendizagem."
      ],
      "metadata": {
        "id": "Kt_gIhAlrgEN"
      }
    },
    {
      "cell_type": "code",
      "metadata": {
        "id": "lDySx8XUSMw_",
        "colab": {
          "base_uri": "https://localhost:8080/"
        },
        "outputId": "a95f0d32-ab4f-4fe7-f068-0c1d6d2ad34a"
      },
      "source": [
        "xgb = XGBClassifier(n_estimators=100, max_depth=5, min_child_weight=1, gamma=0.4)\n",
        "\n",
        "param_grid = {\n",
        "    'learning_rate':[0.001, 0.01, 0.1, 1]\n",
        "}\n",
        "\n",
        "#identificar os melhores parametros\n",
        "kfold = StratifiedKFold(n_splits=10, shuffle=True)\n",
        "grid_search = GridSearchCV(xgb, param_grid, scoring='recall', n_jobs=-1, cv=kfold)\n",
        "grid_result = grid_search.fit(X_rus, y_rus)\n",
        "\n",
        "#print\n",
        "print('Melhor {} para {}'.format(grid_result.best_score_, grid_result.best_params_))"
      ],
      "execution_count": null,
      "outputs": [
        {
          "output_type": "stream",
          "name": "stdout",
          "text": [
            "Melhor 0.927816091954023 para {'learning_rate': 1}\n"
          ]
        }
      ]
    },
    {
      "cell_type": "markdown",
      "source": [
        "### Utilizando o modelo com os parametros ajustados.\n",
        "\n",
        "Após encontrar os melhores parametros nos passos anteriores, vamos rodar o modelo de ML ajustado para comparar os resultados com o modelo sem ajustes."
      ],
      "metadata": {
        "id": "2yFOm7IHvFae"
      }
    },
    {
      "cell_type": "code",
      "source": [
        "#Modelo Final\n",
        "xgb = XGBClassifier(learning_rate=1, n_estimators=100, max_depth=5, min_child_weight=1, gamma=0.4)\n",
        "xgb.fit(X_rus, y_rus)\n",
        "\n",
        "#Previsão\n",
        "y_pred = xgb.predict(X_test)\n",
        "y_proba = xgb.predict_proba(X_test)\n"
      ],
      "metadata": {
        "id": "ozPE3TI4vZmV"
      },
      "execution_count": null,
      "outputs": []
    },
    {
      "cell_type": "markdown",
      "metadata": {
        "id": "3e4ENOTYSUXi"
      },
      "source": [
        "## Avaliar o desempenho do modelo\n",
        "\n",
        "* Identificar a melhor métrica para esse tipo de modelo\n",
        "* [*Opcional*] Comparar o desempenho entre diversos modelos\n",
        "\n",
        "* Vamos analisar o relatório de classificação do modelo, disponibilizado pela função `classification_report` importada no inicio deste doc."
      ]
    },
    {
      "cell_type": "code",
      "metadata": {
        "id": "H1jEi7gkSe2r",
        "colab": {
          "base_uri": "https://localhost:8080/",
          "height": 580
        },
        "outputId": "53f22e57-c50a-4b9b-e765-129fbea57da0"
      },
      "source": [
        "#plotando os resultados\n",
        "\n",
        "skplt.metrics.plot_confusion_matrix(y_test, y_pred, normalize=True)\n",
        "\n",
        "#relatorio de classificação\n",
        "print('Relatório de Classificação:\\n',classification_report(y_test, y_pred, digits=4))\n",
        "\n",
        "#Acuracia\n",
        "print('\\nAcurácia {}\\n'.format(accuracy_score(y_test, y_pred)))\n",
        "\n",
        "#Imprimir a area sobre curva, AUC\n",
        "print('\\nAUC: {:.4f}\\n'.format(roc_auc_score(y_test, y_pred)))\n"
      ],
      "execution_count": null,
      "outputs": [
        {
          "output_type": "stream",
          "name": "stdout",
          "text": [
            "Relatório de Classificação:\n",
            "               precision    recall  f1-score   support\n",
            "\n",
            "           0     0.9999    0.9440    0.9711     60077\n",
            "           1     0.0261    0.9278    0.0507        97\n",
            "\n",
            "    accuracy                         0.9440     60174\n",
            "   macro avg     0.5130    0.9359    0.5109     60174\n",
            "weighted avg     0.9983    0.9440    0.9697     60174\n",
            "\n",
            "\n",
            "Acurácia 0.9439791271977931\n",
            "\n",
            "\n",
            "AUC: 0.9359\n",
            "\n"
          ]
        },
        {
          "output_type": "display_data",
          "data": {
            "text/plain": [
              "<Figure size 432x288 with 2 Axes>"
            ],
            "image/png": "[encoded data removed]"
          },
          "metadata": {}
        }
      ]
    },
    {
      "cell_type": "markdown",
      "source": [
        "### Testando um outro modelo\n",
        "\n",
        "Visto que os ajustes dos parametros não foi muito satisfatório, vamos testar um novo modelo sem ajustes apenas para analisar a diferença,"
      ],
      "metadata": {
        "id": "PlYvwa5L1RcG"
      }
    },
    {
      "cell_type": "code",
      "source": [
        "# instanciar e treinar um modelo de Regressão Logística\n",
        "model = LogisticRegression()\n",
        "model.fit(X_rus, y_rus)\n",
        "\n",
        "# fazer as previsões em cima dos dados de teste\n",
        "y_pred = model.predict(X_test)\n",
        "y_proba = model.predict_proba(X_test)\n",
        "\n",
        "#plotando os resultados\n",
        "\n",
        "skplt.metrics.plot_confusion_matrix(y_test, y_pred, normalize=True)\n",
        "\n",
        "#relatorio de classificação\n",
        "print('Relatório de Classificação:\\n',classification_report(y_test, y_pred, digits=4))\n",
        "\n",
        "#Acuracia\n",
        "print('\\nAcurácia {}\\n'.format(accuracy_score(y_test, y_pred)))\n",
        "\n",
        "#Imprimir a area sobre curva, AUC\n",
        "print('\\nAUC: {:.4f}\\n'.format(roc_auc_score(y_test, y_pred)))\n",
        "\n"
      ],
      "metadata": {
        "colab": {
          "base_uri": "https://localhost:8080/",
          "height": 580
        },
        "id": "k0azyMx-1c4N",
        "outputId": "4614ee24-f38d-48f5-9d12-8b2ef0cd2e02"
      },
      "execution_count": null,
      "outputs": [
        {
          "output_type": "stream",
          "name": "stdout",
          "text": [
            "Relatório de Classificação:\n",
            "               precision    recall  f1-score   support\n",
            "\n",
            "           0     0.9999    0.9466    0.9725     60077\n",
            "           1     0.0276    0.9381    0.0536        97\n",
            "\n",
            "    accuracy                         0.9466     60174\n",
            "   macro avg     0.5137    0.9424    0.5131     60174\n",
            "weighted avg     0.9983    0.9466    0.9710     60174\n",
            "\n",
            "\n",
            "Acurácia 0.9465882274736597\n",
            "\n",
            "\n",
            "AUC: 0.9424\n",
            "\n"
          ]
        },
        {
          "output_type": "display_data",
          "data": {
            "text/plain": [
              "<Figure size 432x288 with 2 Axes>"
            ],
            "image/png": "[encoded data removed]"
          },
          "metadata": {}
        }
      ]
    },
    {
      "cell_type": "markdown",
      "metadata": {
        "id": "0Bj7zRZMSfO7"
      },
      "source": [
        "## Conclusão\n",
        "\n",
        "* Analisando os 3 modelos criados nesse documento:\n",
        "\n",
        "- XGBClassifier \n",
        "- XGBClassifier (ajustado)\n",
        "- LogisticRegression\n",
        "\n",
        "Chegamos na conclusão que o `XGBClassifier` por sí só, sem ajustes, foi o que gerou o melhor resultado. Em seguida a `regressão logística`, e por ultimo o `XGBClassifier` com os parametros ajustados. Pode-se relacionar os resultados com um ajuste ruim para esse modelo, uma vez que ao utilizarmos o `grid_search`, estamos dando os mesmos pesos para todos os parametros, e talvez algum deles influenciam mais que outros. \n",
        "\n",
        "Mesmo assim, os resultados do modelo XBGClassifier, sem ajustes, foram satisfatórios. Apresentando:\n",
        "\n",
        "Acuracia: 95%\n",
        "AUC: 93.89%\n",
        "\n",
        "Além de apresentar um bom desempenho em detercar as transações fraudulentas.\n"
      ]
    },
    {
      "cell_type": "code",
      "source": [
        ""
      ],
      "metadata": {
        "id": "1yJPN6a02749"
      },
      "execution_count": null,
      "outputs": []
    }
  ]
}