{
  "nbformat": 4,
  "nbformat_minor": 0,
  "metadata": {
    "colab": {
      "name": "[Template] Analisando os Dados do Airbnb_AndrePavan.ipynb",
      "provenance": [],
      "collapsed_sections": [
        "kLI0gJtzDGuQ"
      ],
      "include_colab_link": true
    },
    "kernelspec": {
      "name": "python3",
      "display_name": "Python 3"
    }
  },
  "cells": [
    {
      "cell_type": "markdown",
      "metadata": {
        "id": "view-in-github",
        "colab_type": "text"
      },
      "source": [
        "<a href=\"https://colab.research.google.com/github/andrenp2/Sigmoidal_DataScience/blob/main/Analisando_os_Dados_do_Airbnb_Hawaii.ipynb\" target=\"_parent\"><img src=\"https://colab.research.google.com/assets/colab-badge.svg\" alt=\"Open In Colab\"/></a>"
      ]
    },
    {
      "cell_type": "markdown",
      "metadata": {
        "id": "kLI0gJtzDGuQ"
      },
      "source": [
        "<img alt=\"Colaboratory logo\" width=\"15%\" src=\"https://raw.githubusercontent.com/carlosfab/escola-data-science/master/img/novo_logo_bg_claro.png\">\n",
        "\n",
        "#### **Data Science na Prática 3.0**\n",
        "*by [sigmoidal.ai](https://sigmoidal.ai)*\n",
        "\n",
        "---\n",
        "\n",
        "# Análise dos Dados do Airbnb - *Hawaii, Hawaii, United States*\n",
        "\n",
        "O [Airbnb](https://www.airbnb.com.br/) já é considerado como sendo a **maior empresa hoteleira da atualidade**. Ah, o detalhe é que ele **não possui nenhum hotel**!\n",
        "\n",
        "Conectando pessoas que querem viajar (e se hospedar) com anfitriões que querem alugar seus imóveis de maneira prática, o Airbnb fornece uma plataforma inovadora para tornar essa hospedagem alternativa.\n",
        "\n",
        "No final de 2018, a Startup fundada 10 anos atrás, já havia **hospedado mais de 300 milhões** de pessoas ao redor de todo o mundo, desafiando as redes hoteleiras tradicionais.\n",
        "\n",
        "Uma das iniciativas do Airbnb é disponibilizar dados do site, para algumas das principais cidades do mundo. Por meio do portal [Inside Airbnb](http://insideairbnb.com/get-the-data.html), é possível baixar uma grande quantidade de dados para desenvolver projetos e soluções de *Data Science*.\n",
        "\n",
        "<center><img alt=\"Analisando Airbnb\" width=\"10%\" src=\"https://www.area360.com.au/wp-content/uploads/2017/09/airbnb-logo.jpg\"></center>\n",
        "\n",
        "**Neste *notebook*, iremos analisar os dados referentes à cidade Hawaii, e ver quais insights podem ser extraídos a partir de dados brutos.**"
      ]
    },
    {
      "cell_type": "markdown",
      "metadata": {
        "id": "0zxQHhIUDF_2"
      },
      "source": [
        "## Obtenção dos Dados\n"
      ]
    },
    {
      "cell_type": "code",
      "metadata": {
        "id": "Vhp2wMPgJ6zX"
      },
      "source": [
        "# importar os pacotes necessarios\n",
        "\n",
        "import pandas as pd\n",
        "import matplotlib.pyplot as plt\n",
        "import seaborn as sns\n",
        "\n",
        "%matplotlib inline"
      ],
      "execution_count": 79,
      "outputs": []
    },
    {
      "cell_type": "code",
      "metadata": {
        "id": "tUmoAT8DLQ5T"
      },
      "source": [
        "# importar o arquivo listings.csv para um DataFrame\n",
        "df = pd.read_csv('http://data.insideairbnb.com/united-states/hi/hawaii/2021-12-11/visualisations/listings.csv')"
      ],
      "execution_count": 80,
      "outputs": []
    },
    {
      "cell_type": "markdown",
      "metadata": {
        "id": "qb5By2nIMS6m"
      },
      "source": [
        "## Análise dos Dados\n"
      ]
    },
    {
      "cell_type": "markdown",
      "metadata": {
        "id": "RYgvuebKNg8-"
      },
      "source": [
        "**Dicionário das variáveis**\n",
        "\n",
        "* `id` - numero de id gerado para identificar o imovel\n",
        "* `name` - nome da acomodação anunciada\n",
        "* `host_id` - numero de id do proprietário do imovel\n",
        "* `host_name` - nome do proprietario \n",
        "* `neighbourhood_group` - coluna sem valor validos\n",
        "* `neighbourhood` - nome do bairro\n",
        "* `latitude` - coordenada de latitude do imovel\n",
        "* `longitude` - coordenada de longitudo do imovel \n",
        "* `room_type` - informa o tipo do quarto oferecido\n",
        "* `price` - preco anunciado pelo imovel \n",
        "* `minimum_nights` - minimo de noites para alugar\n",
        "* `number_of_reviews` - numero de avaliações do quarto\n",
        "* `last_review` - data da ultima avaliação \n",
        "* `reviews_per_month` - avaliações por mês\n",
        "* `calculated_host_listing_count` - quantidade de imovel do mesmo anfitrião\n",
        "* `availability_365` - numero de dias de disponibilidade dentro de 365 dias\n",
        "Antes de iniciar qualquer análise, vamos verificar a cara do nosso *dataset*, analisando as 5 primeiras entradas."
      ]
    },
    {
      "cell_type": "code",
      "metadata": {
        "id": "2iS_dae7YQtO",
        "colab": {
          "base_uri": "https://localhost:8080/",
          "height": 579
        },
        "outputId": "62fb8d74-5a68-49fb-8e97-9908f6087cc6"
      },
      "source": [
        "# mostrar as 5 primeiras entradas\n",
        "df.head()"
      ],
      "execution_count": 81,
      "outputs": [
        {
          "output_type": "execute_result",
          "data": {
            "text/html": [
              "\n",
              "  <div id=\"df-36933769-bc70-4e66-ad71-9a1afe499152\">\n",
              "    <div class=\"colab-df-container\">\n",
              "      <div>\n",
              "<style scoped>\n",
              "    .dataframe tbody tr th:only-of-type {\n",
              "        vertical-align: middle;\n",
              "    }\n",
              "\n",
              "    .dataframe tbody tr th {\n",
              "        vertical-align: top;\n",
              "    }\n",
              "\n",
              "    .dataframe thead th {\n",
              "        text-align: right;\n",
              "    }\n",
              "</style>\n",
              "<table border=\"1\" class=\"dataframe\">\n",
              "  <thead>\n",
              "    <tr style=\"text-align: right;\">\n",
              "      <th></th>\n",
              "      <th>id</th>\n",
              "      <th>name</th>\n",
              "      <th>host_id</th>\n",
              "      <th>host_name</th>\n",
              "      <th>neighbourhood_group</th>\n",
              "      <th>neighbourhood</th>\n",
              "      <th>latitude</th>\n",
              "      <th>longitude</th>\n",
              "      <th>room_type</th>\n",
              "      <th>price</th>\n",
              "      <th>minimum_nights</th>\n",
              "      <th>number_of_reviews</th>\n",
              "      <th>last_review</th>\n",
              "      <th>reviews_per_month</th>\n",
              "      <th>calculated_host_listings_count</th>\n",
              "      <th>availability_365</th>\n",
              "      <th>number_of_reviews_ltm</th>\n",
              "      <th>license</th>\n",
              "    </tr>\n",
              "  </thead>\n",
              "  <tbody>\n",
              "    <tr>\n",
              "      <th>0</th>\n",
              "      <td>5269</td>\n",
              "      <td>Upcountry Hospitality in the 'Auwai Suite</td>\n",
              "      <td>7620</td>\n",
              "      <td>Lea &amp; Pat</td>\n",
              "      <td>Hawaii</td>\n",
              "      <td>South Kohala</td>\n",
              "      <td>20.02740</td>\n",
              "      <td>-155.70200</td>\n",
              "      <td>Entire home/apt</td>\n",
              "      <td>149</td>\n",
              "      <td>3</td>\n",
              "      <td>16</td>\n",
              "      <td>2021-10-23</td>\n",
              "      <td>0.12</td>\n",
              "      <td>2</td>\n",
              "      <td>193</td>\n",
              "      <td>6</td>\n",
              "      <td>119-269-5808-01R</td>\n",
              "    </tr>\n",
              "    <tr>\n",
              "      <th>1</th>\n",
              "      <td>5387</td>\n",
              "      <td>Hale Koa Studio &amp; 1 Bedroom Units!!</td>\n",
              "      <td>7878</td>\n",
              "      <td>Edward</td>\n",
              "      <td>Hawaii</td>\n",
              "      <td>South Kona</td>\n",
              "      <td>19.43081</td>\n",
              "      <td>-155.88069</td>\n",
              "      <td>Entire home/apt</td>\n",
              "      <td>85</td>\n",
              "      <td>5</td>\n",
              "      <td>186</td>\n",
              "      <td>2021-11-25</td>\n",
              "      <td>1.29</td>\n",
              "      <td>2</td>\n",
              "      <td>253</td>\n",
              "      <td>18</td>\n",
              "      <td>NaN</td>\n",
              "    </tr>\n",
              "    <tr>\n",
              "      <th>2</th>\n",
              "      <td>5389</td>\n",
              "      <td>Keauhou Villa</td>\n",
              "      <td>7878</td>\n",
              "      <td>Edward</td>\n",
              "      <td>Hawaii</td>\n",
              "      <td>North Kona</td>\n",
              "      <td>19.56604</td>\n",
              "      <td>-155.96199</td>\n",
              "      <td>Entire home/apt</td>\n",
              "      <td>299</td>\n",
              "      <td>6</td>\n",
              "      <td>32</td>\n",
              "      <td>2021-09-25</td>\n",
              "      <td>0.33</td>\n",
              "      <td>2</td>\n",
              "      <td>189</td>\n",
              "      <td>12</td>\n",
              "      <td>NaN</td>\n",
              "    </tr>\n",
              "    <tr>\n",
              "      <th>3</th>\n",
              "      <td>5434</td>\n",
              "      <td>Kauai  Ocean View 3 Story Tiki Tower Princeville</td>\n",
              "      <td>7984</td>\n",
              "      <td>Ahlea</td>\n",
              "      <td>Kauai</td>\n",
              "      <td>North Shore Kauai</td>\n",
              "      <td>22.22080</td>\n",
              "      <td>-159.46989</td>\n",
              "      <td>Entire home/apt</td>\n",
              "      <td>425</td>\n",
              "      <td>2</td>\n",
              "      <td>134</td>\n",
              "      <td>2021-11-27</td>\n",
              "      <td>0.90</td>\n",
              "      <td>2</td>\n",
              "      <td>231</td>\n",
              "      <td>26</td>\n",
              "      <td>540050300023</td>\n",
              "    </tr>\n",
              "    <tr>\n",
              "      <th>4</th>\n",
              "      <td>5930</td>\n",
              "      <td>Poipu Beach Guest House - Orchid - SurfSong</td>\n",
              "      <td>10768</td>\n",
              "      <td>John</td>\n",
              "      <td>Kauai</td>\n",
              "      <td>Koloa-Poipu</td>\n",
              "      <td>21.88139</td>\n",
              "      <td>-159.47248</td>\n",
              "      <td>Private room</td>\n",
              "      <td>140</td>\n",
              "      <td>3</td>\n",
              "      <td>206</td>\n",
              "      <td>2021-12-01</td>\n",
              "      <td>1.54</td>\n",
              "      <td>4</td>\n",
              "      <td>120</td>\n",
              "      <td>27</td>\n",
              "      <td>260060100000</td>\n",
              "    </tr>\n",
              "  </tbody>\n",
              "</table>\n",
              "</div>\n",
              "      <button class=\"colab-df-convert\" onclick=\"convertToInteractive('df-36933769-bc70-4e66-ad71-9a1afe499152')\"\n",
              "              title=\"Convert this dataframe to an interactive table.\"\n",
              "              style=\"display:none;\">\n",
              "        \n",
              "  <svg xmlns=\"http://www.w3.org/2000/svg\" height=\"24px\"viewBox=\"0 0 24 24\"\n",
              "       width=\"24px\">\n",
              "    <path d=\"M0 0h24v24H0V0z\" fill=\"none\"/>\n",
              "    <path d=\"M18.56 5.44l.94 2.06.94-2.06 2.06-.94-2.06-.94-.94-2.06-.94 2.06-2.06.94zm-11 1L8.5 8.5l.94-2.06 2.06-.94-2.06-.94L8.5 2.5l-.94 2.06-2.06.94zm10 10l.94 2.06.94-2.06 2.06-.94-2.06-.94-.94-2.06-.94 2.06-2.06.94z\"/><path d=\"M17.41 7.96l-1.37-1.37c-.4-.4-.92-.59-1.43-.59-.52 0-1.04.2-1.43.59L10.3 9.45l-7.72 7.72c-.78.78-.78 2.05 0 2.83L4 21.41c.39.39.9.59 1.41.59.51 0 1.02-.2 1.41-.59l7.78-7.78 2.81-2.81c.8-.78.8-2.07 0-2.86zM5.41 20L4 18.59l7.72-7.72 1.47 1.35L5.41 20z\"/>\n",
              "  </svg>\n",
              "      </button>\n",
              "      \n",
              "  <style>\n",
              "    .colab-df-container {\n",
              "      display:flex;\n",
              "      flex-wrap:wrap;\n",
              "      gap: 12px;\n",
              "    }\n",
              "\n",
              "    .colab-df-convert {\n",
              "      background-color: #E8F0FE;\n",
              "      border: none;\n",
              "      border-radius: 50%;\n",
              "      cursor: pointer;\n",
              "      display: none;\n",
              "      fill: #1967D2;\n",
              "      height: 32px;\n",
              "      padding: 0 0 0 0;\n",
              "      width: 32px;\n",
              "    }\n",
              "\n",
              "    .colab-df-convert:hover {\n",
              "      background-color: #E2EBFA;\n",
              "      box-shadow: 0px 1px 2px rgba(60, 64, 67, 0.3), 0px 1px 3px 1px rgba(60, 64, 67, 0.15);\n",
              "      fill: #174EA6;\n",
              "    }\n",
              "\n",
              "    [theme=dark] .colab-df-convert {\n",
              "      background-color: #3B4455;\n",
              "      fill: #D2E3FC;\n",
              "    }\n",
              "\n",
              "    [theme=dark] .colab-df-convert:hover {\n",
              "      background-color: #434B5C;\n",
              "      box-shadow: 0px 1px 3px 1px rgba(0, 0, 0, 0.15);\n",
              "      filter: drop-shadow(0px 1px 2px rgba(0, 0, 0, 0.3));\n",
              "      fill: #FFFFFF;\n",
              "    }\n",
              "  </style>\n",
              "\n",
              "      <script>\n",
              "        const buttonEl =\n",
              "          document.querySelector('#df-36933769-bc70-4e66-ad71-9a1afe499152 button.colab-df-convert');\n",
              "        buttonEl.style.display =\n",
              "          google.colab.kernel.accessAllowed ? 'block' : 'none';\n",
              "\n",
              "        async function convertToInteractive(key) {\n",
              "          const element = document.querySelector('#df-36933769-bc70-4e66-ad71-9a1afe499152');\n",
              "          const dataTable =\n",
              "            await google.colab.kernel.invokeFunction('convertToInteractive',\n",
              "                                                     [key], {});\n",
              "          if (!dataTable) return;\n",
              "\n",
              "          const docLinkHtml = 'Like what you see? Visit the ' +\n",
              "            '<a target=\"_blank\" href=https://colab.research.google.com/notebooks/data_table.ipynb>data table notebook</a>'\n",
              "            + ' to learn more about interactive tables.';\n",
              "          element.innerHTML = '';\n",
              "          dataTable['output_type'] = 'display_data';\n",
              "          await google.colab.output.renderOutput(dataTable, element);\n",
              "          const docLink = document.createElement('div');\n",
              "          docLink.innerHTML = docLinkHtml;\n",
              "          element.appendChild(docLink);\n",
              "        }\n",
              "      </script>\n",
              "    </div>\n",
              "  </div>\n",
              "  "
            ],
            "text/plain": [
              "     id  ...           license\n",
              "0  5269  ...  119-269-5808-01R\n",
              "1  5387  ...               NaN\n",
              "2  5389  ...               NaN\n",
              "3  5434  ...      540050300023\n",
              "4  5930  ...      260060100000\n",
              "\n",
              "[5 rows x 18 columns]"
            ]
          },
          "metadata": {},
          "execution_count": 81
        }
      ]
    },
    {
      "cell_type": "markdown",
      "metadata": {
        "id": "6-B_qtEaYEd-"
      },
      "source": [
        "### **Q1. Quantos atributos (variáveis) e quantas entradas o nosso conjunto de dados possui? Quais os tipos das variáveis?**"
      ]
    },
    {
      "cell_type": "code",
      "metadata": {
        "id": "TFRK0tniLV-G",
        "colab": {
          "base_uri": "https://localhost:8080/",
          "height": 391
        },
        "outputId": "8e43c0b0-5d50-489d-c72d-290d96e45673"
      },
      "source": [
        "# identificar o volume de dados do DataFrame\n",
        "print(\"Numero de linhas do dataset : {}\".format(df.shape[0]))\n",
        "print(\"Numero de colunas do dataset : {}\\n\".format(df.shape[1]))\n",
        "\n",
        "# verificar as 5 primeiras entradas do dataset\n",
        "display(df.dtypes)\n"
      ],
      "execution_count": 82,
      "outputs": [
        {
          "output_type": "stream",
          "name": "stdout",
          "text": [
            "Numero de linhas do dataset : 24294\n",
            "Numero de colunas do dataset : 18\n",
            "\n"
          ]
        },
        {
          "output_type": "display_data",
          "data": {
            "text/plain": [
              "id                                  int64\n",
              "name                               object\n",
              "host_id                             int64\n",
              "host_name                          object\n",
              "neighbourhood_group                object\n",
              "neighbourhood                      object\n",
              "latitude                          float64\n",
              "longitude                         float64\n",
              "room_type                          object\n",
              "price                               int64\n",
              "minimum_nights                      int64\n",
              "number_of_reviews                   int64\n",
              "last_review                        object\n",
              "reviews_per_month                 float64\n",
              "calculated_host_listings_count      int64\n",
              "availability_365                    int64\n",
              "number_of_reviews_ltm               int64\n",
              "license                            object\n",
              "dtype: object"
            ]
          },
          "metadata": {}
        }
      ]
    },
    {
      "cell_type": "markdown",
      "metadata": {
        "id": "yz1urSUGW9iE"
      },
      "source": [
        "### **Q2. Qual a porcentagem de valores ausentes no *dataset*?**"
      ]
    },
    {
      "cell_type": "code",
      "metadata": {
        "id": "plk2FjbCXOqP",
        "colab": {
          "base_uri": "https://localhost:8080/"
        },
        "outputId": "abcf17af-3f60-46b6-d783-3bc15cf09449"
      },
      "source": [
        "# ordenar em ordem decrescente as variáveis por seus valores ausentes\n",
        "\n",
        "(df.isnull().sum() / df.shape[0]).sort_values(ascending=False)"
      ],
      "execution_count": 83,
      "outputs": [
        {
          "output_type": "execute_result",
          "data": {
            "text/plain": [
              "license                           0.228204\n",
              "reviews_per_month                 0.204330\n",
              "last_review                       0.204330\n",
              "host_name                         0.005392\n",
              "minimum_nights                    0.000000\n",
              "number_of_reviews_ltm             0.000000\n",
              "availability_365                  0.000000\n",
              "calculated_host_listings_count    0.000000\n",
              "number_of_reviews                 0.000000\n",
              "id                                0.000000\n",
              "name                              0.000000\n",
              "room_type                         0.000000\n",
              "longitude                         0.000000\n",
              "latitude                          0.000000\n",
              "neighbourhood                     0.000000\n",
              "neighbourhood_group               0.000000\n",
              "host_id                           0.000000\n",
              "price                             0.000000\n",
              "dtype: float64"
            ]
          },
          "metadata": {},
          "execution_count": 83
        }
      ]
    },
    {
      "cell_type": "markdown",
      "metadata": {
        "id": "iHXvvHIxaoNc"
      },
      "source": [
        "### **Q3. Qual o tipo de distribuição das variáveis?** "
      ]
    },
    {
      "cell_type": "code",
      "metadata": {
        "id": "q2wWSfeRbmBo",
        "colab": {
          "base_uri": "https://localhost:8080/",
          "height": 607
        },
        "outputId": "5f3f18d5-7a01-4879-af31-09410ad2fa8f"
      },
      "source": [
        "# plotar o histograma das variáveis numéricas\n",
        "\n",
        "df.hist(bins = 6, figsize =(15,10));"
      ],
      "execution_count": 85,
      "outputs": [
        {
          "output_type": "display_data",
          "data": {
            "image/png": "[encoded data removed]",
            "text/plain": [
              "<Figure size 1080x720 with 12 Axes>"
            ]
          },
          "metadata": {
            "needs_background": "light"
          }
        }
      ]
    },
    {
      "cell_type": "markdown",
      "source": [
        "### **Q.3.1 Verificando outliers**"
      ],
      "metadata": {
        "id": "C7hBJ6CvYR1D"
      }
    },
    {
      "cell_type": "code",
      "source": [
        "# verificando as colunas price, minimum_nights, number_of_reviews\n",
        "df.price.plot(kind='box', vert=False, figsize=(15,3))\n",
        "plt.show()\n",
        "df.minimum_nights.plot(kind='box', vert=False, figsize=(15,3))\n",
        "plt.show()\n",
        "df.reviews_per_month.plot(kind='box', vert=False, figsize=(15,3))\n",
        "plt.show()\n"
      ],
      "metadata": {
        "colab": {
          "base_uri": "https://localhost:8080/",
          "height": 599
        },
        "id": "fFjR8avcYahG",
        "outputId": "83cd183c-e548-42f6-ce55-4e22ecf25f2b"
      },
      "execution_count": 109,
      "outputs": [
        {
          "output_type": "display_data",
          "data": {
            "image/png": "[encoded data removed]",
            "text/plain": [
              "<Figure size 1080x216 with 1 Axes>"
            ]
          },
          "metadata": {
            "needs_background": "light"
          }
        },
        {
          "output_type": "display_data",
          "data": {
            "image/png": "[encoded data removed]",
            "text/plain": [
              "<Figure size 1080x216 with 1 Axes>"
            ]
          },
          "metadata": {
            "needs_background": "light"
          }
        },
        {
          "output_type": "display_data",
          "data": {
            "image/png": "[encoded data removed]",
            "text/plain": [
              "<Figure size 1080x216 with 1 Axes>"
            ]
          },
          "metadata": {
            "needs_background": "light"
          }
        }
      ]
    },
    {
      "cell_type": "code",
      "source": [
        "# Verificando em numeros, o objetivo é encontrar um limite de exclusao dos dados para cada coluna, price, minimum_nights.\n",
        "preco_lim = 4000\n",
        "noite_lim = 31\n",
        "\n",
        "# ---- PRICE ----\n",
        "print(\"\\nprice: preço acima de USD $ {}\".format(preco_lim))\n",
        "print(\"{} entradas\".format(len(df[df.price > preco_lim])))\n",
        "print(\"{:.4f}%\".format(len(df[df.price > preco_lim])/df.shape[0]*100))\n",
        "\n",
        "# --- MINIMUM_NIGHTS ---\n",
        "print(\"\\nminimum_nights: minimo de noites acima de {} dias\".format(noite_lim))\n",
        "print(\"{} entradas\".format(len(df[df.minimum_nights > noite_lim])))\n",
        "print(\"{:.4f}%\".format(len(df[df.minimum_nights > noite_lim]) / df.shape[0] * 100))"
      ],
      "metadata": {
        "colab": {
          "base_uri": "https://localhost:8080/"
        },
        "id": "8oCH5imYazN1",
        "outputId": "dfc975b4-9507-4cfa-8b22-0c7a0453291a"
      },
      "execution_count": 110,
      "outputs": [
        {
          "output_type": "stream",
          "name": "stdout",
          "text": [
            "\n",
            "price: preço acima de USD $ 4000\n",
            "219 entradas\n",
            "0.9015%\n",
            "\n",
            "minimum_nights: minimo de noites acima de 31 dias\n",
            "188 entradas\n",
            "0.7739%\n"
          ]
        }
      ]
    },
    {
      "cell_type": "markdown",
      "source": [
        " ### **Q3.2. Tratando outliers**"
      ],
      "metadata": {
        "id": "ouWBOLZNU69X"
      }
    },
    {
      "cell_type": "markdown",
      "source": [
        "** Fazendo a analise acima podemos notar alguns pontos interessantes referente aos outliers, tais como: **\n",
        "\n",
        "*   temos apenas `219` entradas `acima de 4000 US$`, o que representa menos que `1%` do nosso dataset\n",
        "*   da coluna minimum_nights, `188 acomodações` exigem um periodo maior que `31` dias para locação, representando menos que `1%` do dataset.\n",
        "\n",
        "Sendo assim, podemos filtrar esses dados da nossa analise, pois nao representara uma mudança significativa, e a analise ficará mais coerente sem a presença de tantos *`outliers`*\n",
        "\n"
      ],
      "metadata": {
        "id": "4pabL3CdfLEJ"
      }
    },
    {
      "cell_type": "code",
      "source": [
        "# criando uma copia do df\n",
        "df_clean = df.copy()"
      ],
      "metadata": {
        "id": "XPULQJOlVTYl"
      },
      "execution_count": 111,
      "outputs": []
    },
    {
      "cell_type": "markdown",
      "source": [
        "** podemos fazer um filtro nesse 'novo' dataset para retirar os valores conforme analisados anteriormente. **"
      ],
      "metadata": {
        "id": "5Of_zwYsWkr_"
      }
    },
    {
      "cell_type": "code",
      "source": [
        "# retirando os dados da coluna price \n",
        "df_clean.drop(df_clean[df_clean.price > preco_lim].index, axis=0, inplace=True)\n",
        "\n",
        "# retirando os dados da coluna minimum_price\n",
        "df_clean.drop(df_clean[df_clean.minimum_nights > noite_lim].index, axis=0, inplace=True)\n",
        "\n",
        "# excluindo a coluna neighbourhood_group pois nao contem valores\n",
        "df_clean.drop('neighbourhood_group', axis = 1, inplace = True)"
      ],
      "metadata": {
        "id": "S5Ao2SDwVTLF"
      },
      "execution_count": 112,
      "outputs": []
    },
    {
      "cell_type": "code",
      "source": [
        "# plotando os histogramas sem os outliers presentes\n",
        "\n",
        "df_clean.hist(bins=10, figsize=(15,10));"
      ],
      "metadata": {
        "colab": {
          "base_uri": "https://localhost:8080/",
          "height": 607
        },
        "id": "xop--KXKjoQS",
        "outputId": "d76ce2c8-e3d1-45d1-852b-0911eae1bda7"
      },
      "execution_count": 113,
      "outputs": [
        {
          "output_type": "display_data",
          "data": {
            "image/png": "[encoded data removed]",
            "text/plain": [
              "<Figure size 1080x720 with 12 Axes>"
            ]
          },
          "metadata": {
            "needs_background": "light"
          }
        }
      ]
    },
    {
      "cell_type": "markdown",
      "metadata": {
        "id": "7x4aw1j5wNmn"
      },
      "source": [
        "### **Q4. Qual a média dos preços de aluguel?**"
      ]
    },
    {
      "cell_type": "code",
      "metadata": {
        "id": "ff-8gUahLk-C",
        "colab": {
          "base_uri": "https://localhost:8080/"
        },
        "outputId": "6ca7f60b-ce83-4550-a532-0991e19c1de0"
      },
      "source": [
        "# ver a média da coluna `price``\n",
        "\n",
        "media_preco_co = df['price'].mean()\n",
        "media_preco_so = df_clean['price'].mean()\n",
        "\n",
        "print('A media dos alugueis na cidade é de : $ {:.2f} com os outliers'.format(media_preco_co))\n",
        "print('\\nA media dos alugueis na cidade é de : $ {:.2f} sem os outliers'.format(media_preco_so))\n"
      ],
      "execution_count": 116,
      "outputs": [
        {
          "output_type": "stream",
          "name": "stdout",
          "text": [
            "A media dos alugueis na cidade é de : $ 447.32 com os outliers\n",
            "\n",
            "A media dos alugueis na cidade é de : $ 358.66 sem os outliers\n"
          ]
        }
      ]
    },
    {
      "cell_type": "markdown",
      "metadata": {
        "id": "IXn2oIo5qx-w"
      },
      "source": [
        "### **Q4. Qual a correlação existente entre as variáveis**"
      ]
    },
    {
      "cell_type": "code",
      "metadata": {
        "id": "x2ayzBajqxyd",
        "colab": {
          "base_uri": "https://localhost:8080/",
          "height": 235
        },
        "outputId": "b50c17a4-d0ca-4fc2-ceb3-218ce7873375"
      },
      "source": [
        "# criar uma matriz de correlação\n",
        "#escolher as variaveis mais importantes para analisar se existe uma correlação entre elas\n",
        "\n",
        "corr = df_clean[['price','minimum_nights','number_of_reviews', 'reviews_per_month','calculated_host_listings_count','availability_365']].corr()\n",
        "\n",
        "# mostrar a matriz de correlação\n",
        "display(corr)"
      ],
      "execution_count": 117,
      "outputs": [
        {
          "output_type": "display_data",
          "data": {
            "text/html": [
              "\n",
              "  <div id=\"df-ba33e5cd-8641-4d03-a1e4-f8eab251e241\">\n",
              "    <div class=\"colab-df-container\">\n",
              "      <div>\n",
              "<style scoped>\n",
              "    .dataframe tbody tr th:only-of-type {\n",
              "        vertical-align: middle;\n",
              "    }\n",
              "\n",
              "    .dataframe tbody tr th {\n",
              "        vertical-align: top;\n",
              "    }\n",
              "\n",
              "    .dataframe thead th {\n",
              "        text-align: right;\n",
              "    }\n",
              "</style>\n",
              "<table border=\"1\" class=\"dataframe\">\n",
              "  <thead>\n",
              "    <tr style=\"text-align: right;\">\n",
              "      <th></th>\n",
              "      <th>price</th>\n",
              "      <th>minimum_nights</th>\n",
              "      <th>number_of_reviews</th>\n",
              "      <th>reviews_per_month</th>\n",
              "      <th>calculated_host_listings_count</th>\n",
              "      <th>availability_365</th>\n",
              "    </tr>\n",
              "  </thead>\n",
              "  <tbody>\n",
              "    <tr>\n",
              "      <th>price</th>\n",
              "      <td>1.000000</td>\n",
              "      <td>-0.070763</td>\n",
              "      <td>-0.191534</td>\n",
              "      <td>-0.224260</td>\n",
              "      <td>0.109707</td>\n",
              "      <td>-0.025220</td>\n",
              "    </tr>\n",
              "    <tr>\n",
              "      <th>minimum_nights</th>\n",
              "      <td>-0.070763</td>\n",
              "      <td>1.000000</td>\n",
              "      <td>-0.050594</td>\n",
              "      <td>-0.169336</td>\n",
              "      <td>-0.120148</td>\n",
              "      <td>-0.026736</td>\n",
              "    </tr>\n",
              "    <tr>\n",
              "      <th>number_of_reviews</th>\n",
              "      <td>-0.191534</td>\n",
              "      <td>-0.050594</td>\n",
              "      <td>1.000000</td>\n",
              "      <td>0.632066</td>\n",
              "      <td>-0.251775</td>\n",
              "      <td>0.010021</td>\n",
              "    </tr>\n",
              "    <tr>\n",
              "      <th>reviews_per_month</th>\n",
              "      <td>-0.224260</td>\n",
              "      <td>-0.169336</td>\n",
              "      <td>0.632066</td>\n",
              "      <td>1.000000</td>\n",
              "      <td>-0.262667</td>\n",
              "      <td>-0.006019</td>\n",
              "    </tr>\n",
              "    <tr>\n",
              "      <th>calculated_host_listings_count</th>\n",
              "      <td>0.109707</td>\n",
              "      <td>-0.120148</td>\n",
              "      <td>-0.251775</td>\n",
              "      <td>-0.262667</td>\n",
              "      <td>1.000000</td>\n",
              "      <td>0.198006</td>\n",
              "    </tr>\n",
              "    <tr>\n",
              "      <th>availability_365</th>\n",
              "      <td>-0.025220</td>\n",
              "      <td>-0.026736</td>\n",
              "      <td>0.010021</td>\n",
              "      <td>-0.006019</td>\n",
              "      <td>0.198006</td>\n",
              "      <td>1.000000</td>\n",
              "    </tr>\n",
              "  </tbody>\n",
              "</table>\n",
              "</div>\n",
              "      <button class=\"colab-df-convert\" onclick=\"convertToInteractive('df-ba33e5cd-8641-4d03-a1e4-f8eab251e241')\"\n",
              "              title=\"Convert this dataframe to an interactive table.\"\n",
              "              style=\"display:none;\">\n",
              "        \n",
              "  <svg xmlns=\"http://www.w3.org/2000/svg\" height=\"24px\"viewBox=\"0 0 24 24\"\n",
              "       width=\"24px\">\n",
              "    <path d=\"M0 0h24v24H0V0z\" fill=\"none\"/>\n",
              "    <path d=\"M18.56 5.44l.94 2.06.94-2.06 2.06-.94-2.06-.94-.94-2.06-.94 2.06-2.06.94zm-11 1L8.5 8.5l.94-2.06 2.06-.94-2.06-.94L8.5 2.5l-.94 2.06-2.06.94zm10 10l.94 2.06.94-2.06 2.06-.94-2.06-.94-.94-2.06-.94 2.06-2.06.94z\"/><path d=\"M17.41 7.96l-1.37-1.37c-.4-.4-.92-.59-1.43-.59-.52 0-1.04.2-1.43.59L10.3 9.45l-7.72 7.72c-.78.78-.78 2.05 0 2.83L4 21.41c.39.39.9.59 1.41.59.51 0 1.02-.2 1.41-.59l7.78-7.78 2.81-2.81c.8-.78.8-2.07 0-2.86zM5.41 20L4 18.59l7.72-7.72 1.47 1.35L5.41 20z\"/>\n",
              "  </svg>\n",
              "      </button>\n",
              "      \n",
              "  <style>\n",
              "    .colab-df-container {\n",
              "      display:flex;\n",
              "      flex-wrap:wrap;\n",
              "      gap: 12px;\n",
              "    }\n",
              "\n",
              "    .colab-df-convert {\n",
              "      background-color: #E8F0FE;\n",
              "      border: none;\n",
              "      border-radius: 50%;\n",
              "      cursor: pointer;\n",
              "      display: none;\n",
              "      fill: #1967D2;\n",
              "      height: 32px;\n",
              "      padding: 0 0 0 0;\n",
              "      width: 32px;\n",
              "    }\n",
              "\n",
              "    .colab-df-convert:hover {\n",
              "      background-color: #E2EBFA;\n",
              "      box-shadow: 0px 1px 2px rgba(60, 64, 67, 0.3), 0px 1px 3px 1px rgba(60, 64, 67, 0.15);\n",
              "      fill: #174EA6;\n",
              "    }\n",
              "\n",
              "    [theme=dark] .colab-df-convert {\n",
              "      background-color: #3B4455;\n",
              "      fill: #D2E3FC;\n",
              "    }\n",
              "\n",
              "    [theme=dark] .colab-df-convert:hover {\n",
              "      background-color: #434B5C;\n",
              "      box-shadow: 0px 1px 3px 1px rgba(0, 0, 0, 0.15);\n",
              "      filter: drop-shadow(0px 1px 2px rgba(0, 0, 0, 0.3));\n",
              "      fill: #FFFFFF;\n",
              "    }\n",
              "  </style>\n",
              "\n",
              "      <script>\n",
              "        const buttonEl =\n",
              "          document.querySelector('#df-ba33e5cd-8641-4d03-a1e4-f8eab251e241 button.colab-df-convert');\n",
              "        buttonEl.style.display =\n",
              "          google.colab.kernel.accessAllowed ? 'block' : 'none';\n",
              "\n",
              "        async function convertToInteractive(key) {\n",
              "          const element = document.querySelector('#df-ba33e5cd-8641-4d03-a1e4-f8eab251e241');\n",
              "          const dataTable =\n",
              "            await google.colab.kernel.invokeFunction('convertToInteractive',\n",
              "                                                     [key], {});\n",
              "          if (!dataTable) return;\n",
              "\n",
              "          const docLinkHtml = 'Like what you see? Visit the ' +\n",
              "            '<a target=\"_blank\" href=https://colab.research.google.com/notebooks/data_table.ipynb>data table notebook</a>'\n",
              "            + ' to learn more about interactive tables.';\n",
              "          element.innerHTML = '';\n",
              "          dataTable['output_type'] = 'display_data';\n",
              "          await google.colab.output.renderOutput(dataTable, element);\n",
              "          const docLink = document.createElement('div');\n",
              "          docLink.innerHTML = docLinkHtml;\n",
              "          element.appendChild(docLink);\n",
              "        }\n",
              "      </script>\n",
              "    </div>\n",
              "  </div>\n",
              "  "
            ],
            "text/plain": [
              "                                   price  ...  availability_365\n",
              "price                           1.000000  ...         -0.025220\n",
              "minimum_nights                 -0.070763  ...         -0.026736\n",
              "number_of_reviews              -0.191534  ...          0.010021\n",
              "reviews_per_month              -0.224260  ...         -0.006019\n",
              "calculated_host_listings_count  0.109707  ...          0.198006\n",
              "availability_365               -0.025220  ...          1.000000\n",
              "\n",
              "[6 rows x 6 columns]"
            ]
          },
          "metadata": {}
        }
      ]
    },
    {
      "cell_type": "code",
      "metadata": {
        "id": "91UujDr6ueqE",
        "colab": {
          "base_uri": "https://localhost:8080/",
          "height": 411
        },
        "outputId": "3c679737-7040-4a62-b76d-62448c47d510"
      },
      "source": [
        "# plotar um heatmap a partir das correlações\n",
        "sns.heatmap(corr, cmap='RdBu', fmt='.2f', square=True, linecolor='white',annot=True);"
      ],
      "execution_count": 118,
      "outputs": [
        {
          "output_type": "display_data",
          "data": {
            "image/png": "[encoded data removed]",
            "text/plain": [
              "<Figure size 432x288 with 2 Axes>"
            ]
          },
          "metadata": {
            "needs_background": "light"
          }
        }
      ]
    },
    {
      "cell_type": "markdown",
      "metadata": {
        "id": "7b6RMWpuHKN-"
      },
      "source": [
        "### **Q5. Qual o tipo de imóvel mais alugado no Airbnb?**"
      ]
    },
    {
      "cell_type": "code",
      "metadata": {
        "id": "ueLPNWvPHgfB",
        "colab": {
          "base_uri": "https://localhost:8080/"
        },
        "outputId": "9461d50f-9fb1-4f22-8fc4-866c71710624"
      },
      "source": [
        "# mostrar a quantidade de cada tipo de imóvel disponível\n",
        "df_clean['room_type'].value_counts()"
      ],
      "execution_count": 119,
      "outputs": [
        {
          "output_type": "execute_result",
          "data": {
            "text/plain": [
              "Entire home/apt    21588\n",
              "Private room        2184\n",
              "Hotel room            82\n",
              "Shared room           35\n",
              "Name: room_type, dtype: int64"
            ]
          },
          "metadata": {},
          "execution_count": 119
        }
      ]
    },
    {
      "cell_type": "code",
      "metadata": {
        "id": "EvwoO-XAHhIm",
        "colab": {
          "base_uri": "https://localhost:8080/"
        },
        "outputId": "b21af104-740f-4835-9feb-2edd9efcb088"
      },
      "source": [
        "# mostrar a porcentagem de cada tipo de imóvel disponível\n",
        "( df_clean.room_type.value_counts() / df_clean.shape[0] )"
      ],
      "execution_count": 120,
      "outputs": [
        {
          "output_type": "execute_result",
          "data": {
            "text/plain": [
              "Entire home/apt    0.903680\n",
              "Private room       0.091423\n",
              "Hotel room         0.003433\n",
              "Shared room        0.001465\n",
              "Name: room_type, dtype: float64"
            ]
          },
          "metadata": {},
          "execution_count": 120
        }
      ]
    },
    {
      "cell_type": "markdown",
      "metadata": {
        "id": "MFa5NbnLJMcd"
      },
      "source": [
        "### **Q6. Qual a localidade mais cara do dataset?**\n",
        "\n"
      ]
    },
    {
      "cell_type": "code",
      "metadata": {
        "id": "MD_xa143JZpi",
        "colab": {
          "base_uri": "https://localhost:8080/"
        },
        "outputId": "62951d90-3eaf-415d-c297-1b53b211dff7"
      },
      "source": [
        "# ver preços por bairros, na média\n",
        "df_clean.groupby(['neighbourhood']).price.mean().sort_values(ascending=False)[:10]\n",
        "\n",
        "df_clean.groupby(['neighbourhood']).price.mean().sort_values(ascending=False)"
      ],
      "execution_count": 121,
      "outputs": [
        {
          "output_type": "execute_result",
          "data": {
            "text/plain": [
              "neighbourhood\n",
              "East Honolulu            532.447059\n",
              "Lahaina                  525.918735\n",
              "Koolaupoko               516.154762\n",
              "South Kohala             513.095772\n",
              "Koloa-Poipu              497.834028\n",
              "Ewa                      461.688073\n",
              "Waimea-Kekaha            445.869565\n",
              "Lihue                    430.101382\n",
              "Koolauloa                421.651064\n",
              "North Shore Kauai        388.401355\n",
              "Kihei-Makena             386.972296\n",
              "Paia-Haiku               367.180905\n",
              "Hana                     361.197183\n",
              "Lanai                    360.857143\n",
              "North Shore Oahu         330.428986\n",
              "Makawao-Pukalani-Kula    303.419355\n",
              "North Kohala             302.083333\n",
              "Kapaa-Wailua             301.867110\n",
              "North Kona               288.168211\n",
              "North Hilo               254.628571\n",
              "Wailuku-Kahului          235.478261\n",
              "South Kona               222.574380\n",
              "Waianae                  221.706422\n",
              "Primary Urban Center     218.379754\n",
              "Hamakua                  217.133333\n",
              "Kau                      205.124324\n",
              "South Hilo               173.462916\n",
              "Central Oahu             162.170732\n",
              "Puna                     161.902273\n",
              "Molokai                  129.294479\n",
              "Name: price, dtype: float64"
            ]
          },
          "metadata": {},
          "execution_count": 121
        }
      ]
    },
    {
      "cell_type": "code",
      "metadata": {
        "id": "UxVJqJ_3W59I",
        "colab": {
          "base_uri": "https://localhost:8080/",
          "height": 476
        },
        "outputId": "1ca28378-84bf-490e-b6d5-f6effa1d3baa"
      },
      "source": [
        "# plotar os imóveis pela latitude-longitude\n",
        "df_clean.plot.scatter(x='latitude',y='longitude', alpha=0.4, c=df_clean['price'], s=8, cmap=plt.get_cmap('jet'), figsize=(12,8));"
      ],
      "execution_count": 122,
      "outputs": [
        {
          "output_type": "display_data",
          "data": {
            "image/png": "[encoded data removed]",
            "text/plain": [
              "<Figure size 864x576 with 2 Axes>"
            ]
          },
          "metadata": {
            "needs_background": "light"
          }
        }
      ]
    },
    {
      "cell_type": "markdown",
      "metadata": {
        "id": "vTneAMRUYvr1"
      },
      "source": [
        "### **Q7. Qual é a média do mínimo de noites para aluguel (minimum_nights)?**"
      ]
    },
    {
      "cell_type": "code",
      "metadata": {
        "id": "_VzNhrEgY82N",
        "colab": {
          "base_uri": "https://localhost:8080/"
        },
        "outputId": "b18b40e8-944d-4f7d-bddc-5244410e55d5"
      },
      "source": [
        "# ver a média da coluna `minimum_nights``\n",
        "\n",
        "print(\"A media do numero minimo de noites para locação é de {:.1f} noites\".format(df_clean.minimum_nights.mean()))\n"
      ],
      "execution_count": 127,
      "outputs": [
        {
          "output_type": "stream",
          "name": "stdout",
          "text": [
            "A media do numero minimo de noites para locação é de 5.3 noites\n"
          ]
        }
      ]
    },
    {
      "cell_type": "markdown",
      "metadata": {
        "id": "GkvAg623RjoR"
      },
      "source": [
        "## Conclusões\n"
      ]
    },
    {
      "cell_type": "markdown",
      "metadata": {
        "id": "rbZ3Hsy9Ypw8"
      },
      "source": [
        "#### Foi analisado os dados de alugueis do Airbnb para a cidade de Hawaii. \n",
        "\n",
        "Durante a analise notou-se a presença de outliers, sendo assim, foi realizado um filtro manual, retirando dados que fosse superior a um determinado valor, os quais esses nao correspondessem mais que 1% de todo o dataset para que isso nao alterasse nossa analise final.\n",
        "\n",
        "**Temos apenas `219` entradas `acima de 4000 US$`, o que representa menos que `1%` do nosso dataset e sobre a coluna minimum_nights, `188 acomodações` exigem um periodo maior que `31` dias para locação, representando também menos que `1%` do dataset.**\n",
        "\n",
        "Sendo assim, sua exclusão se torna a melhor alternativa.\n",
        "\n",
        "Foi comparado a media dos preços com e sem outliers, que resultou em:\n",
        "\n",
        "**- A media dos alugueis na cidade é de : $ 447.32 `com` os outliers**\n",
        "\n",
        "**- A media dos alugueis na cidade é de : $ 358.66 `sem` os outliers**\n",
        "\n",
        "**Obs: nota-se que os *`outliers`* intereferem diretamente nos valores do dataset, principalmente quando analisamos as médias**\n",
        "\n",
        "\n",
        "Porém, apesar de retirar alguns *outliers*, ainda há uma discrepancia nos dados, por nao ter sido utilizado uma abordagem estatística durante a exclusão dos mesmos. Contudo, o objetivo desse projeto era retratar as localidades de maiores custos da cidade de Hawaii no Airbnb, onde ja foi possível obter algumas informações interessantes. \n",
        "\n",
        "Contudo, o presente projeto tem como prioridade servir como um estudo para analise de dados, sendo esse o primeiro realizado durante o curso de `Data Science Na Pratica - DSNP 3.0` "
      ]
    },
    {
      "cell_type": "code",
      "source": [
        ""
      ],
      "metadata": {
        "id": "eDeZvo6yy4EB"
      },
      "execution_count": null,
      "outputs": []
    }
  ]
}